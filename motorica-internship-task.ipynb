{
 "cells": [
  {
   "cell_type": "markdown",
   "id": "5b87ca0e",
   "metadata": {
    "papermill": {
     "duration": 0.015642,
     "end_time": "2023-12-28T17:23:48.801420",
     "exception": false,
     "start_time": "2023-12-28T17:23:48.785778",
     "status": "completed"
    },
    "tags": []
   },
   "source": [
    "## Задача классификации непрерывных команд от пользователя на основе данных, полученных от оптомиографических датчиков"
   ]
  },
  {
   "cell_type": "markdown",
   "id": "1396c8c3",
   "metadata": {
    "papermill": {
     "duration": 0.012393,
     "end_time": "2023-12-28T17:23:48.826733",
     "exception": false,
     "start_time": "2023-12-28T17:23:48.814340",
     "status": "completed"
    },
    "tags": []
   },
   "source": [
    "Необходимо построить модель распознавания жестов в парадигме обучения с учителем. Параметры модели должны быть оптимизированы на предложенных данных для обучения. Валидация модели будет произведена на отложенной тестовой выборке."
   ]
  },
  {
   "cell_type": "markdown",
   "id": "46ccd428",
   "metadata": {
    "papermill": {
     "duration": 0.012515,
     "end_time": "2023-12-28T17:23:48.852107",
     "exception": false,
     "start_time": "2023-12-28T17:23:48.839592",
     "status": "completed"
    },
    "tags": []
   },
   "source": [
    "<div class=\"list-group\" id=\"list-tab\" role=\"tablist\">\n",
    "<h2 class=\"list-group-item list-group-item-action active\" data-toggle=\"list\" style='background:blue; border:0; color:white' role=\"tab\" aria-controls=\"home\"><center>Quick navigation</center></h2>\n",
    "\n",
    "* [0. Installation of libraries](#0)\n",
    "* [1. Basic Data Overview](#1)\n",
    "* [2. Preparation of data](#2)\n",
    "* [3. Predicting models](#3)\n",
    "* [4. Optimization of hyperparameters](#4)\n",
    "* [5. Prediction of movements in test data](#5)"
   ]
  },
  {
   "cell_type": "markdown",
   "id": "1b35f4b0",
   "metadata": {
    "papermill": {
     "duration": 0.012406,
     "end_time": "2023-12-28T17:23:48.877237",
     "exception": false,
     "start_time": "2023-12-28T17:23:48.864831",
     "status": "completed"
    },
    "tags": []
   },
   "source": [
    "<a id=\"0\"></a>\n",
    "<h2 style='background:blue; border:0; color:white'><center>0. 🛠 Installation of libraries</center><h2>"
   ]
  },
  {
   "cell_type": "code",
   "execution_count": 1,
   "id": "3ba9a179",
   "metadata": {
    "execution": {
     "iopub.execute_input": "2023-12-28T17:23:48.905347Z",
     "iopub.status.busy": "2023-12-28T17:23:48.904575Z",
     "iopub.status.idle": "2023-12-28T17:23:52.450587Z",
     "shell.execute_reply": "2023-12-28T17:23:52.449608Z"
    },
    "papermill": {
     "duration": 3.56301,
     "end_time": "2023-12-28T17:23:52.453293",
     "exception": false,
     "start_time": "2023-12-28T17:23:48.890283",
     "status": "completed"
    },
    "tags": []
   },
   "outputs": [],
   "source": [
    "import numpy as np\n",
    "import pandas as pd\n",
    "\n",
    "import seaborn as sns\n",
    "from matplotlib import pyplot as plt\n",
    "import plotly \n",
    "import plotly.express as px\n",
    "\n",
    "from  sklearn.ensemble import IsolationForest\n",
    "from sklearn.preprocessing  import LabelEncoder\n",
    "from sklearn import linear_model \n",
    "from sklearn import tree \n",
    "from sklearn import ensemble \n",
    "from sklearn import metrics \n",
    "from sklearn import preprocessing \n",
    "from sklearn.model_selection import train_test_split \n",
    "from sklearn.feature_selection import SelectKBest, f_classif\n",
    "from sklearn.model_selection import cross_val_predict\n",
    "from sklearn.model_selection import StratifiedKFold\n",
    "\n",
    "from sklearn.linear_model import LogisticRegression\n",
    "from sklearn.metrics import log_loss, accuracy_score\n",
    "from sklearn.feature_extraction.text import CountVectorizer\n",
    "from sklearn.feature_extraction.text import TfidfVectorizer\n",
    "from sklearn.svm import SVC\n",
    "from sklearn.decomposition import TruncatedSVD\n",
    "from sklearn.ensemble import RandomForestClassifier\n",
    "from sklearn.preprocessing import LabelEncoder\n",
    "\n",
    "import warnings\n",
    "warnings.filterwarnings('ignore')"
   ]
  },
  {
   "cell_type": "markdown",
   "id": "17465c78",
   "metadata": {
    "papermill": {
     "duration": 0.01295,
     "end_time": "2023-12-28T17:23:52.479697",
     "exception": false,
     "start_time": "2023-12-28T17:23:52.466747",
     "status": "completed"
    },
    "tags": []
   },
   "source": [
    "<a id=\"1\"></a>\n",
    "<h2 style='background:blue; border:0; color:white'><center>1. 📚 Basic Data Overview</center><h2>"
   ]
  },
  {
   "cell_type": "code",
   "execution_count": 2,
   "id": "0a18a211",
   "metadata": {
    "execution": {
     "iopub.execute_input": "2023-12-28T17:23:52.508277Z",
     "iopub.status.busy": "2023-12-28T17:23:52.507337Z",
     "iopub.status.idle": "2023-12-28T17:23:52.636510Z",
     "shell.execute_reply": "2023-12-28T17:23:52.635385Z"
    },
    "papermill": {
     "duration": 0.146273,
     "end_time": "2023-12-28T17:23:52.639161",
     "exception": false,
     "start_time": "2023-12-28T17:23:52.492888",
     "status": "completed"
    },
    "tags": []
   },
   "outputs": [
    {
     "data": {
      "text/plain": [
       "'X_train:'"
      ]
     },
     "metadata": {},
     "output_type": "display_data"
    },
    {
     "data": {
      "text/plain": [
       "(323, 40, 100)"
      ]
     },
     "metadata": {},
     "output_type": "display_data"
    },
    {
     "data": {
      "text/plain": [
       "'X_test:'"
      ]
     },
     "metadata": {},
     "output_type": "display_data"
    },
    {
     "data": {
      "text/plain": [
       "(54, 40, 100)"
      ]
     },
     "metadata": {},
     "output_type": "display_data"
    }
   ],
   "source": [
    "X_train = np.load('/kaggle/input/motorica-skillfactory-internship-test-task-2023-12/X_train.npy')\n",
    "display('X_train:',X_train.shape)\n",
    "\n",
    "X_test = np.load('/kaggle/input/motorica-skillfactory-internship-test-task-2023-12/X_test.npy')\n",
    "display('X_test:',X_test.shape)"
   ]
  },
  {
   "cell_type": "markdown",
   "id": "e1e033a5",
   "metadata": {
    "papermill": {
     "duration": 0.013175,
     "end_time": "2023-12-28T17:23:52.666290",
     "exception": false,
     "start_time": "2023-12-28T17:23:52.653115",
     "status": "completed"
    },
    "tags": []
   },
   "source": [
    "`y_train.csv` содержит следующие классы: \n",
    "  - `0` - команда \"Open\";\n",
    "  - `1` - команда \"сгиб мизинца\";\n",
    "  - `2` - команда \"сгиб безымянного пальца\";\n",
    "  - `3` - команда \"сгиб среднего пальца\";\n",
    "  - `4` - команда \"жест пистолет\";\n",
    "  - `5` - команда \"сгиб указательного пальца\";\n",
    "  - `6` - команда \"сгиб большога пальца\";\n",
    "  - `7` - команда \"жест ОК\";\n",
    "  - `8` - команда \"жест grab\";¶"
   ]
  },
  {
   "cell_type": "code",
   "execution_count": 3,
   "id": "019cfc26",
   "metadata": {
    "execution": {
     "iopub.execute_input": "2023-12-28T17:23:52.697108Z",
     "iopub.status.busy": "2023-12-28T17:23:52.696048Z",
     "iopub.status.idle": "2023-12-28T17:23:52.758380Z",
     "shell.execute_reply": "2023-12-28T17:23:52.757202Z"
    },
    "papermill": {
     "duration": 0.080055,
     "end_time": "2023-12-28T17:23:52.760863",
     "exception": false,
     "start_time": "2023-12-28T17:23:52.680808",
     "status": "completed"
    },
    "tags": []
   },
   "outputs": [
    {
     "data": {
      "text/plain": [
       "'y_train:'"
      ]
     },
     "metadata": {},
     "output_type": "display_data"
    },
    {
     "data": {
      "text/plain": [
       "(32300, 2)"
      ]
     },
     "metadata": {},
     "output_type": "display_data"
    },
    {
     "data": {
      "text/html": [
       "<div>\n",
       "<style scoped>\n",
       "    .dataframe tbody tr th:only-of-type {\n",
       "        vertical-align: middle;\n",
       "    }\n",
       "\n",
       "    .dataframe tbody tr th {\n",
       "        vertical-align: top;\n",
       "    }\n",
       "\n",
       "    .dataframe thead th {\n",
       "        text-align: right;\n",
       "    }\n",
       "</style>\n",
       "<table border=\"1\" class=\"dataframe\">\n",
       "  <thead>\n",
       "    <tr style=\"text-align: right;\">\n",
       "      <th></th>\n",
       "      <th>sample-timestep</th>\n",
       "      <th>class</th>\n",
       "    </tr>\n",
       "  </thead>\n",
       "  <tbody>\n",
       "    <tr>\n",
       "      <th>0</th>\n",
       "      <td>0-0</td>\n",
       "      <td>0</td>\n",
       "    </tr>\n",
       "    <tr>\n",
       "      <th>1</th>\n",
       "      <td>0-1</td>\n",
       "      <td>0</td>\n",
       "    </tr>\n",
       "    <tr>\n",
       "      <th>2</th>\n",
       "      <td>0-2</td>\n",
       "      <td>0</td>\n",
       "    </tr>\n",
       "    <tr>\n",
       "      <th>3</th>\n",
       "      <td>0-3</td>\n",
       "      <td>0</td>\n",
       "    </tr>\n",
       "    <tr>\n",
       "      <th>4</th>\n",
       "      <td>0-4</td>\n",
       "      <td>0</td>\n",
       "    </tr>\n",
       "  </tbody>\n",
       "</table>\n",
       "</div>"
      ],
      "text/plain": [
       "  sample-timestep  class\n",
       "0             0-0      0\n",
       "1             0-1      0\n",
       "2             0-2      0\n",
       "3             0-3      0\n",
       "4             0-4      0"
      ]
     },
     "metadata": {},
     "output_type": "display_data"
    }
   ],
   "source": [
    "y_train_df = pd.read_csv('/kaggle/input/motorica-skillfactory-internship-test-task-2023-12/y_train.csv')\n",
    "display('y_train:',y_train_df.shape)\n",
    "display(y_train_df.head())"
   ]
  },
  {
   "cell_type": "code",
   "execution_count": 4,
   "id": "85457274",
   "metadata": {
    "execution": {
     "iopub.execute_input": "2023-12-28T17:23:52.792203Z",
     "iopub.status.busy": "2023-12-28T17:23:52.791508Z",
     "iopub.status.idle": "2023-12-28T17:23:53.031859Z",
     "shell.execute_reply": "2023-12-28T17:23:53.030456Z"
    },
    "papermill": {
     "duration": 0.258946,
     "end_time": "2023-12-28T17:23:53.034794",
     "exception": false,
     "start_time": "2023-12-28T17:23:52.775848",
     "status": "completed"
    },
    "tags": []
   },
   "outputs": [
    {
     "data": {
      "text/html": [
       "<div>\n",
       "<style scoped>\n",
       "    .dataframe tbody tr th:only-of-type {\n",
       "        vertical-align: middle;\n",
       "    }\n",
       "\n",
       "    .dataframe tbody tr th {\n",
       "        vertical-align: top;\n",
       "    }\n",
       "\n",
       "    .dataframe thead th {\n",
       "        text-align: right;\n",
       "    }\n",
       "</style>\n",
       "<table border=\"1\" class=\"dataframe\">\n",
       "  <thead>\n",
       "    <tr style=\"text-align: right;\">\n",
       "      <th></th>\n",
       "      <th>sample-timestep</th>\n",
       "      <th>class</th>\n",
       "      <th>sample_id</th>\n",
       "      <th>timestep</th>\n",
       "    </tr>\n",
       "  </thead>\n",
       "  <tbody>\n",
       "    <tr>\n",
       "      <th>0</th>\n",
       "      <td>0-0</td>\n",
       "      <td>0</td>\n",
       "      <td>0</td>\n",
       "      <td>0</td>\n",
       "    </tr>\n",
       "    <tr>\n",
       "      <th>1</th>\n",
       "      <td>0-1</td>\n",
       "      <td>0</td>\n",
       "      <td>0</td>\n",
       "      <td>1</td>\n",
       "    </tr>\n",
       "    <tr>\n",
       "      <th>2</th>\n",
       "      <td>0-2</td>\n",
       "      <td>0</td>\n",
       "      <td>0</td>\n",
       "      <td>2</td>\n",
       "    </tr>\n",
       "  </tbody>\n",
       "</table>\n",
       "</div>"
      ],
      "text/plain": [
       "  sample-timestep  class  sample_id  timestep\n",
       "0             0-0      0          0         0\n",
       "1             0-1      0          0         1\n",
       "2             0-2      0          0         2"
      ]
     },
     "metadata": {},
     "output_type": "display_data"
    },
    {
     "data": {
      "text/html": [
       "<div>\n",
       "<style scoped>\n",
       "    .dataframe tbody tr th:only-of-type {\n",
       "        vertical-align: middle;\n",
       "    }\n",
       "\n",
       "    .dataframe tbody tr th {\n",
       "        vertical-align: top;\n",
       "    }\n",
       "\n",
       "    .dataframe thead th {\n",
       "        text-align: right;\n",
       "    }\n",
       "</style>\n",
       "<table border=\"1\" class=\"dataframe\">\n",
       "  <thead>\n",
       "    <tr style=\"text-align: right;\">\n",
       "      <th>timestep</th>\n",
       "      <th>0</th>\n",
       "      <th>1</th>\n",
       "      <th>2</th>\n",
       "      <th>3</th>\n",
       "      <th>4</th>\n",
       "      <th>5</th>\n",
       "      <th>6</th>\n",
       "      <th>7</th>\n",
       "      <th>8</th>\n",
       "      <th>9</th>\n",
       "      <th>...</th>\n",
       "      <th>90</th>\n",
       "      <th>91</th>\n",
       "      <th>92</th>\n",
       "      <th>93</th>\n",
       "      <th>94</th>\n",
       "      <th>95</th>\n",
       "      <th>96</th>\n",
       "      <th>97</th>\n",
       "      <th>98</th>\n",
       "      <th>99</th>\n",
       "    </tr>\n",
       "    <tr>\n",
       "      <th>sample_id</th>\n",
       "      <th></th>\n",
       "      <th></th>\n",
       "      <th></th>\n",
       "      <th></th>\n",
       "      <th></th>\n",
       "      <th></th>\n",
       "      <th></th>\n",
       "      <th></th>\n",
       "      <th></th>\n",
       "      <th></th>\n",
       "      <th></th>\n",
       "      <th></th>\n",
       "      <th></th>\n",
       "      <th></th>\n",
       "      <th></th>\n",
       "      <th></th>\n",
       "      <th></th>\n",
       "      <th></th>\n",
       "      <th></th>\n",
       "      <th></th>\n",
       "      <th></th>\n",
       "    </tr>\n",
       "  </thead>\n",
       "  <tbody>\n",
       "    <tr>\n",
       "      <th>0</th>\n",
       "      <td>0</td>\n",
       "      <td>0</td>\n",
       "      <td>0</td>\n",
       "      <td>0</td>\n",
       "      <td>0</td>\n",
       "      <td>0</td>\n",
       "      <td>0</td>\n",
       "      <td>0</td>\n",
       "      <td>0</td>\n",
       "      <td>0</td>\n",
       "      <td>...</td>\n",
       "      <td>0</td>\n",
       "      <td>0</td>\n",
       "      <td>0</td>\n",
       "      <td>0</td>\n",
       "      <td>0</td>\n",
       "      <td>0</td>\n",
       "      <td>0</td>\n",
       "      <td>0</td>\n",
       "      <td>0</td>\n",
       "      <td>0</td>\n",
       "    </tr>\n",
       "    <tr>\n",
       "      <th>1</th>\n",
       "      <td>0</td>\n",
       "      <td>0</td>\n",
       "      <td>0</td>\n",
       "      <td>0</td>\n",
       "      <td>0</td>\n",
       "      <td>0</td>\n",
       "      <td>0</td>\n",
       "      <td>0</td>\n",
       "      <td>0</td>\n",
       "      <td>0</td>\n",
       "      <td>...</td>\n",
       "      <td>0</td>\n",
       "      <td>0</td>\n",
       "      <td>0</td>\n",
       "      <td>0</td>\n",
       "      <td>0</td>\n",
       "      <td>0</td>\n",
       "      <td>0</td>\n",
       "      <td>0</td>\n",
       "      <td>0</td>\n",
       "      <td>0</td>\n",
       "    </tr>\n",
       "    <tr>\n",
       "      <th>2</th>\n",
       "      <td>0</td>\n",
       "      <td>0</td>\n",
       "      <td>0</td>\n",
       "      <td>0</td>\n",
       "      <td>0</td>\n",
       "      <td>0</td>\n",
       "      <td>0</td>\n",
       "      <td>0</td>\n",
       "      <td>0</td>\n",
       "      <td>0</td>\n",
       "      <td>...</td>\n",
       "      <td>6</td>\n",
       "      <td>6</td>\n",
       "      <td>6</td>\n",
       "      <td>6</td>\n",
       "      <td>6</td>\n",
       "      <td>6</td>\n",
       "      <td>6</td>\n",
       "      <td>6</td>\n",
       "      <td>6</td>\n",
       "      <td>6</td>\n",
       "    </tr>\n",
       "    <tr>\n",
       "      <th>3</th>\n",
       "      <td>6</td>\n",
       "      <td>6</td>\n",
       "      <td>6</td>\n",
       "      <td>6</td>\n",
       "      <td>6</td>\n",
       "      <td>6</td>\n",
       "      <td>6</td>\n",
       "      <td>6</td>\n",
       "      <td>6</td>\n",
       "      <td>6</td>\n",
       "      <td>...</td>\n",
       "      <td>0</td>\n",
       "      <td>0</td>\n",
       "      <td>0</td>\n",
       "      <td>0</td>\n",
       "      <td>0</td>\n",
       "      <td>0</td>\n",
       "      <td>0</td>\n",
       "      <td>0</td>\n",
       "      <td>0</td>\n",
       "      <td>0</td>\n",
       "    </tr>\n",
       "    <tr>\n",
       "      <th>4</th>\n",
       "      <td>0</td>\n",
       "      <td>0</td>\n",
       "      <td>0</td>\n",
       "      <td>0</td>\n",
       "      <td>0</td>\n",
       "      <td>0</td>\n",
       "      <td>0</td>\n",
       "      <td>0</td>\n",
       "      <td>0</td>\n",
       "      <td>0</td>\n",
       "      <td>...</td>\n",
       "      <td>5</td>\n",
       "      <td>5</td>\n",
       "      <td>5</td>\n",
       "      <td>5</td>\n",
       "      <td>5</td>\n",
       "      <td>5</td>\n",
       "      <td>5</td>\n",
       "      <td>5</td>\n",
       "      <td>5</td>\n",
       "      <td>5</td>\n",
       "    </tr>\n",
       "    <tr>\n",
       "      <th>...</th>\n",
       "      <td>...</td>\n",
       "      <td>...</td>\n",
       "      <td>...</td>\n",
       "      <td>...</td>\n",
       "      <td>...</td>\n",
       "      <td>...</td>\n",
       "      <td>...</td>\n",
       "      <td>...</td>\n",
       "      <td>...</td>\n",
       "      <td>...</td>\n",
       "      <td>...</td>\n",
       "      <td>...</td>\n",
       "      <td>...</td>\n",
       "      <td>...</td>\n",
       "      <td>...</td>\n",
       "      <td>...</td>\n",
       "      <td>...</td>\n",
       "      <td>...</td>\n",
       "      <td>...</td>\n",
       "      <td>...</td>\n",
       "      <td>...</td>\n",
       "    </tr>\n",
       "    <tr>\n",
       "      <th>318</th>\n",
       "      <td>0</td>\n",
       "      <td>0</td>\n",
       "      <td>0</td>\n",
       "      <td>0</td>\n",
       "      <td>0</td>\n",
       "      <td>0</td>\n",
       "      <td>0</td>\n",
       "      <td>0</td>\n",
       "      <td>0</td>\n",
       "      <td>0</td>\n",
       "      <td>...</td>\n",
       "      <td>8</td>\n",
       "      <td>8</td>\n",
       "      <td>8</td>\n",
       "      <td>8</td>\n",
       "      <td>8</td>\n",
       "      <td>8</td>\n",
       "      <td>8</td>\n",
       "      <td>8</td>\n",
       "      <td>8</td>\n",
       "      <td>8</td>\n",
       "    </tr>\n",
       "    <tr>\n",
       "      <th>319</th>\n",
       "      <td>8</td>\n",
       "      <td>8</td>\n",
       "      <td>8</td>\n",
       "      <td>8</td>\n",
       "      <td>8</td>\n",
       "      <td>8</td>\n",
       "      <td>8</td>\n",
       "      <td>8</td>\n",
       "      <td>8</td>\n",
       "      <td>8</td>\n",
       "      <td>...</td>\n",
       "      <td>0</td>\n",
       "      <td>0</td>\n",
       "      <td>0</td>\n",
       "      <td>0</td>\n",
       "      <td>0</td>\n",
       "      <td>0</td>\n",
       "      <td>0</td>\n",
       "      <td>0</td>\n",
       "      <td>0</td>\n",
       "      <td>0</td>\n",
       "    </tr>\n",
       "    <tr>\n",
       "      <th>320</th>\n",
       "      <td>0</td>\n",
       "      <td>0</td>\n",
       "      <td>0</td>\n",
       "      <td>0</td>\n",
       "      <td>0</td>\n",
       "      <td>0</td>\n",
       "      <td>0</td>\n",
       "      <td>0</td>\n",
       "      <td>0</td>\n",
       "      <td>0</td>\n",
       "      <td>...</td>\n",
       "      <td>7</td>\n",
       "      <td>7</td>\n",
       "      <td>7</td>\n",
       "      <td>7</td>\n",
       "      <td>7</td>\n",
       "      <td>7</td>\n",
       "      <td>7</td>\n",
       "      <td>7</td>\n",
       "      <td>7</td>\n",
       "      <td>7</td>\n",
       "    </tr>\n",
       "    <tr>\n",
       "      <th>321</th>\n",
       "      <td>7</td>\n",
       "      <td>7</td>\n",
       "      <td>7</td>\n",
       "      <td>7</td>\n",
       "      <td>7</td>\n",
       "      <td>7</td>\n",
       "      <td>7</td>\n",
       "      <td>7</td>\n",
       "      <td>7</td>\n",
       "      <td>7</td>\n",
       "      <td>...</td>\n",
       "      <td>0</td>\n",
       "      <td>0</td>\n",
       "      <td>0</td>\n",
       "      <td>0</td>\n",
       "      <td>0</td>\n",
       "      <td>0</td>\n",
       "      <td>0</td>\n",
       "      <td>0</td>\n",
       "      <td>0</td>\n",
       "      <td>0</td>\n",
       "    </tr>\n",
       "    <tr>\n",
       "      <th>322</th>\n",
       "      <td>0</td>\n",
       "      <td>0</td>\n",
       "      <td>0</td>\n",
       "      <td>0</td>\n",
       "      <td>0</td>\n",
       "      <td>0</td>\n",
       "      <td>0</td>\n",
       "      <td>0</td>\n",
       "      <td>0</td>\n",
       "      <td>0</td>\n",
       "      <td>...</td>\n",
       "      <td>4</td>\n",
       "      <td>4</td>\n",
       "      <td>4</td>\n",
       "      <td>4</td>\n",
       "      <td>4</td>\n",
       "      <td>4</td>\n",
       "      <td>4</td>\n",
       "      <td>4</td>\n",
       "      <td>4</td>\n",
       "      <td>4</td>\n",
       "    </tr>\n",
       "  </tbody>\n",
       "</table>\n",
       "<p>323 rows × 100 columns</p>\n",
       "</div>"
      ],
      "text/plain": [
       "timestep   0   1   2   3   4   5   6   7   8   9   ...  90  91  92  93  94  \\\n",
       "sample_id                                          ...                       \n",
       "0           0   0   0   0   0   0   0   0   0   0  ...   0   0   0   0   0   \n",
       "1           0   0   0   0   0   0   0   0   0   0  ...   0   0   0   0   0   \n",
       "2           0   0   0   0   0   0   0   0   0   0  ...   6   6   6   6   6   \n",
       "3           6   6   6   6   6   6   6   6   6   6  ...   0   0   0   0   0   \n",
       "4           0   0   0   0   0   0   0   0   0   0  ...   5   5   5   5   5   \n",
       "...        ..  ..  ..  ..  ..  ..  ..  ..  ..  ..  ...  ..  ..  ..  ..  ..   \n",
       "318         0   0   0   0   0   0   0   0   0   0  ...   8   8   8   8   8   \n",
       "319         8   8   8   8   8   8   8   8   8   8  ...   0   0   0   0   0   \n",
       "320         0   0   0   0   0   0   0   0   0   0  ...   7   7   7   7   7   \n",
       "321         7   7   7   7   7   7   7   7   7   7  ...   0   0   0   0   0   \n",
       "322         0   0   0   0   0   0   0   0   0   0  ...   4   4   4   4   4   \n",
       "\n",
       "timestep   95  96  97  98  99  \n",
       "sample_id                      \n",
       "0           0   0   0   0   0  \n",
       "1           0   0   0   0   0  \n",
       "2           6   6   6   6   6  \n",
       "3           0   0   0   0   0  \n",
       "4           5   5   5   5   5  \n",
       "...        ..  ..  ..  ..  ..  \n",
       "318         8   8   8   8   8  \n",
       "319         0   0   0   0   0  \n",
       "320         7   7   7   7   7  \n",
       "321         0   0   0   0   0  \n",
       "322         4   4   4   4   4  \n",
       "\n",
       "[323 rows x 100 columns]"
      ]
     },
     "metadata": {},
     "output_type": "display_data"
    },
    {
     "name": "stdout",
     "output_type": "stream",
     "text": [
      "(323, 100)\n"
     ]
    },
    {
     "data": {
      "text/plain": [
       "array([[0, 0, 0, ..., 0, 0, 0],\n",
       "       [0, 0, 0, ..., 0, 0, 0],\n",
       "       [0, 0, 0, ..., 6, 6, 6],\n",
       "       ...,\n",
       "       [0, 0, 0, ..., 7, 7, 7],\n",
       "       [7, 7, 7, ..., 0, 0, 0],\n",
       "       [0, 0, 0, ..., 4, 4, 4]])"
      ]
     },
     "execution_count": 4,
     "metadata": {},
     "output_type": "execute_result"
    }
   ],
   "source": [
    "y_train = y_train_df.copy()\n",
    "y_train[['sample_id', 'timestep']] = y_train['sample-timestep'].str.split('-', n=1, expand=True).astype(int)\n",
    "display(y_train.head(3))\n",
    "y_train = y_train.pivot(index='sample_id', columns='timestep', values='class')\n",
    "display(y_train)\n",
    "y_train_index = y_train.index\n",
    "y_train = y_train.sort_index() # на всякий случай\n",
    "y_train = y_train.values\n",
    "\n",
    "print(y_train.shape)\n",
    "y_train"
   ]
  },
  {
   "cell_type": "code",
   "execution_count": 5,
   "id": "9893af9a",
   "metadata": {
    "execution": {
     "iopub.execute_input": "2023-12-28T17:23:53.067244Z",
     "iopub.status.busy": "2023-12-28T17:23:53.066810Z",
     "iopub.status.idle": "2023-12-28T17:23:53.824863Z",
     "shell.execute_reply": "2023-12-28T17:23:53.823957Z"
    },
    "papermill": {
     "duration": 0.777765,
     "end_time": "2023-12-28T17:23:53.827801",
     "exception": false,
     "start_time": "2023-12-28T17:23:53.050036",
     "status": "completed"
    },
    "tags": []
   },
   "outputs": [
    {
     "data": {
      "image/png": "[encoded data removed]",
      "text/plain": [
       "<Figure size 640x480 with 2 Axes>"
      ]
     },
     "metadata": {},
     "output_type": "display_data"
    }
   ],
   "source": [
    "i = 21\n",
    "fig, axx = plt.subplots(2, 1, sharex=True)\n",
    "    \n",
    "axx[0].plot(X_train[i].T)\n",
    "axx[0].set_title('OMG')\n",
    "\n",
    "axx[1].plot(y_train[i])\n",
    "axx[1].set_title('Class/Command')\n",
    "axx[1].set_xlabel('Timestep')\n",
    "axx[1].set_yticks(\n",
    "    np.arange(9),\n",
    "    ['Open', 'Pinky', 'Ring', 'Middle', 'Pistol', 'Index', 'Thumb', 'OK', 'Grab']\n",
    ")\n",
    "\n",
    "plt.suptitle(f'Train {i}')\n",
    "\n",
    "plt.tight_layout()"
   ]
  },
  {
   "cell_type": "code",
   "execution_count": 6,
   "id": "a02afac4",
   "metadata": {
    "execution": {
     "iopub.execute_input": "2023-12-28T17:23:53.862761Z",
     "iopub.status.busy": "2023-12-28T17:23:53.862359Z",
     "iopub.status.idle": "2023-12-28T17:23:55.685900Z",
     "shell.execute_reply": "2023-12-28T17:23:55.684735Z"
    },
    "papermill": {
     "duration": 1.844021,
     "end_time": "2023-12-28T17:23:55.688629",
     "exception": false,
     "start_time": "2023-12-28T17:23:53.844608",
     "status": "completed"
    },
    "tags": []
   },
   "outputs": [
    {
     "data": {
      "text/html": [
       "<div>\n",
       "<style scoped>\n",
       "    .dataframe tbody tr th:only-of-type {\n",
       "        vertical-align: middle;\n",
       "    }\n",
       "\n",
       "    .dataframe tbody tr th {\n",
       "        vertical-align: top;\n",
       "    }\n",
       "\n",
       "    .dataframe thead th {\n",
       "        text-align: right;\n",
       "    }\n",
       "</style>\n",
       "<table border=\"1\" class=\"dataframe\">\n",
       "  <thead>\n",
       "    <tr style=\"text-align: right;\">\n",
       "      <th></th>\n",
       "      <th>sample_id</th>\n",
       "      <th>class</th>\n",
       "      <th>count</th>\n",
       "    </tr>\n",
       "  </thead>\n",
       "  <tbody>\n",
       "    <tr>\n",
       "      <th>0</th>\n",
       "      <td>0</td>\n",
       "      <td>Open</td>\n",
       "      <td>100</td>\n",
       "    </tr>\n",
       "    <tr>\n",
       "      <th>1</th>\n",
       "      <td>1</td>\n",
       "      <td>Open</td>\n",
       "      <td>100</td>\n",
       "    </tr>\n",
       "    <tr>\n",
       "      <th>2</th>\n",
       "      <td>2</td>\n",
       "      <td>Open</td>\n",
       "      <td>50</td>\n",
       "    </tr>\n",
       "    <tr>\n",
       "      <th>3</th>\n",
       "      <td>2</td>\n",
       "      <td>Thumb</td>\n",
       "      <td>50</td>\n",
       "    </tr>\n",
       "    <tr>\n",
       "      <th>4</th>\n",
       "      <td>3</td>\n",
       "      <td>Open</td>\n",
       "      <td>50</td>\n",
       "    </tr>\n",
       "  </tbody>\n",
       "</table>\n",
       "</div>"
      ],
      "text/plain": [
       "   sample_id  class  count\n",
       "0          0   Open    100\n",
       "1          1   Open    100\n",
       "2          2   Open     50\n",
       "3          2  Thumb     50\n",
       "4          3   Open     50"
      ]
     },
     "metadata": {},
     "output_type": "display_data"
    },
    {
     "data": {
      "image/png": "[encoded data removed]",
      "text/plain": [
       "<Figure size 1700x600 with 8 Axes>"
      ]
     },
     "metadata": {},
     "output_type": "display_data"
    }
   ],
   "source": [
    "y_train = y_train_df.copy()\n",
    "y_train[['sample_id', 'timestep']] = y_train['sample-timestep'].str.split('-', n=1, expand=True).astype(int)\n",
    "temp = y_train.groupby('sample_id', as_index=False)['class'].value_counts()\n",
    "dic = {0:'Open',1: 'Pinky', 2:'Ring', 3:'Middle',\n",
    "       4:'Pistol', 5:'Index',6: 'Thumb',7: 'OK',8: 'Grab'}\n",
    "temp['class'] = temp['class'].map(dic)\n",
    "display(temp.head())\n",
    "samples = temp.sample_id.unique()\n",
    "figs = []\n",
    "fig, axes = plt.subplots(2, 4, figsize=(17, 6))\n",
    "\n",
    "# Iterate over samples and create bar plots\n",
    "for i, sample_id in enumerate(np.random.choice(samples, 8, replace=False)):\n",
    "    temp_sample = temp[temp['sample_id'] == sample_id]\n",
    "    \n",
    "    # Calculate the position in the 2x4 grid\n",
    "    row, col = divmod(i-1, 4)\n",
    "    \n",
    "    sns.barplot(x='class', y='count', data=temp_sample, ax=axes[row, col])\n",
    "\n",
    "    axes[row, col].set_title(f'Train {sample_id}')\n",
    "    axes[row, col].set_xlabel('Class')\n",
    "    axes[row, col].set_ylabel('Count')\n",
    "    axes[row, col].set_xticks(np.arange(len(temp_sample['class'])))\n",
    "    axes[row, col].set_xticklabels(labels=temp_sample['class'], rotation=45, ha='right')\n",
    "                            \n",
    "plt.tight_layout()\n",
    "fig.suptitle('Distribution of movements')\n",
    "plt.show()"
   ]
  },
  {
   "cell_type": "markdown",
   "id": "c9c37c5f",
   "metadata": {
    "papermill": {
     "duration": 0.017324,
     "end_time": "2023-12-28T17:23:55.723739",
     "exception": false,
     "start_time": "2023-12-28T17:23:55.706415",
     "status": "completed"
    },
    "tags": []
   },
   "source": [
    "<a id=\"2\"></a>\n",
    "<h2 style='background:blue; border:0; color:white'><center>2. 🗂 Preparation of data </center><h2>"
   ]
  },
  {
   "cell_type": "markdown",
   "id": "5b518afe",
   "metadata": {
    "papermill": {
     "duration": 0.017483,
     "end_time": "2023-12-28T17:23:55.758808",
     "exception": false,
     "start_time": "2023-12-28T17:23:55.741325",
     "status": "completed"
    },
    "tags": []
   },
   "source": [
    "For a sequence classification problem where you want to predict a class for each time step,bthe shapes of X_train and y_train should be as follows:\n",
    " - X_train: (number_of_samples, n_timesteps,n_features)\n",
    " - y_train: (number_of_samples, n_timesteps,n_classes)"
   ]
  },
  {
   "cell_type": "code",
   "execution_count": 7,
   "id": "24c05f3b",
   "metadata": {
    "execution": {
     "iopub.execute_input": "2023-12-28T17:23:55.797511Z",
     "iopub.status.busy": "2023-12-28T17:23:55.796689Z",
     "iopub.status.idle": "2023-12-28T17:24:10.006316Z",
     "shell.execute_reply": "2023-12-28T17:24:10.005142Z"
    },
    "papermill": {
     "duration": 14.231948,
     "end_time": "2023-12-28T17:24:10.009047",
     "exception": false,
     "start_time": "2023-12-28T17:23:55.777099",
     "status": "completed"
    },
    "tags": []
   },
   "outputs": [
    {
     "name": "stdout",
     "output_type": "stream",
     "text": [
      "(323, 100, 40) (323, 100, 9)\n"
     ]
    }
   ],
   "source": [
    "from keras.utils import to_categorical\n",
    "n_timesteps=100\n",
    "n_features=40\n",
    "n_classes=9\n",
    "\n",
    "X_train = np.load('/kaggle/input/motorica-skillfactory-internship-test-task-2023-12/X_train.npy')\n",
    "X_train = X_train.reshape((X_train.shape[0], n_timesteps, n_features))\n",
    "\n",
    "y_train = y_train_df.copy()\n",
    "y_train[['sample_id', 'timestep']] = y_train['sample-timestep'].str.split('-', n=1, expand=True).astype(int)\n",
    "y_train = y_train.pivot(index='sample_id', columns='timestep', values='class')\n",
    "y_train_index = y_train.index\n",
    "y_train = y_train.sort_index() # на всякий случай\n",
    "y_train = y_train.values\n",
    "\n",
    "y_train_encoded = to_categorical(y_train)\n",
    "# Reshape y_train_encoded to have 100 time steps\n",
    "y_train = y_train_encoded.reshape((y_train_encoded.shape[0], n_timesteps, n_classes,))\n",
    "\n",
    "print(X_train.shape,\n",
    "      y_train.shape)"
   ]
  },
  {
   "cell_type": "code",
   "execution_count": 8,
   "id": "0c6bd4fc",
   "metadata": {
    "execution": {
     "iopub.execute_input": "2023-12-28T17:24:10.116075Z",
     "iopub.status.busy": "2023-12-28T17:24:10.115275Z",
     "iopub.status.idle": "2023-12-28T17:24:10.130297Z",
     "shell.execute_reply": "2023-12-28T17:24:10.129130Z"
    },
    "papermill": {
     "duration": 0.037878,
     "end_time": "2023-12-28T17:24:10.132818",
     "exception": false,
     "start_time": "2023-12-28T17:24:10.094940",
     "status": "completed"
    },
    "tags": []
   },
   "outputs": [],
   "source": [
    "# split on training and valid ds\n",
    "from sklearn.model_selection import train_test_split\n",
    "X_train, X_valid, y_train, y_valid = train_test_split(X_train, y_train, test_size=0.2, random_state=42)"
   ]
  },
  {
   "cell_type": "code",
   "execution_count": 9,
   "id": "1b1eb423",
   "metadata": {
    "execution": {
     "iopub.execute_input": "2023-12-28T17:24:10.171165Z",
     "iopub.status.busy": "2023-12-28T17:24:10.170708Z",
     "iopub.status.idle": "2023-12-28T17:24:10.203494Z",
     "shell.execute_reply": "2023-12-28T17:24:10.202595Z"
    },
    "papermill": {
     "duration": 0.054558,
     "end_time": "2023-12-28T17:24:10.205570",
     "exception": false,
     "start_time": "2023-12-28T17:24:10.151012",
     "status": "completed"
    },
    "tags": []
   },
   "outputs": [
    {
     "data": {
      "text/plain": [
       "'X_train:'"
      ]
     },
     "metadata": {},
     "output_type": "display_data"
    },
    {
     "data": {
      "text/plain": [
       "(258, 100, 40)"
      ]
     },
     "metadata": {},
     "output_type": "display_data"
    },
    {
     "data": {
      "text/plain": [
       "'X_test:'"
      ]
     },
     "metadata": {},
     "output_type": "display_data"
    },
    {
     "data": {
      "text/plain": [
       "(65, 100, 40)"
      ]
     },
     "metadata": {},
     "output_type": "display_data"
    },
    {
     "data": {
      "text/plain": [
       "'y_train:'"
      ]
     },
     "metadata": {},
     "output_type": "display_data"
    },
    {
     "data": {
      "text/plain": [
       "(258, 100, 9)"
      ]
     },
     "metadata": {},
     "output_type": "display_data"
    }
   ],
   "source": [
    "# Scaling\n",
    "from sklearn.preprocessing import MinMaxScaler\n",
    "scaler = MinMaxScaler()\n",
    "\n",
    "# Reshape X_train to (number_of_samples * 100, 40) before scaling\n",
    "X_train_reshaped = X_train.reshape(-1, 40)\n",
    "# Fit and transform the training data\n",
    "X_train_norm_reshaped = scaler.fit_transform(X_train_reshaped)\n",
    "# Reshape it back to the original shape\n",
    "X_train_norm = X_train_norm_reshaped.reshape(X_train.shape)\n",
    "\n",
    "# Reshape X_test to (number_of_samples * 100, 40) before scaling\n",
    "X_valid_reshaped = X_valid.reshape(-1, 40)\n",
    "# Transform the test data using the same scaler\n",
    "X_valid_norm_reshaped = scaler.transform(X_valid_reshaped)\n",
    "# Reshape it back to the original shape\n",
    "X_valid_norm = X_valid_norm_reshaped.reshape(X_valid.shape)\n",
    "\n",
    "display('X_train:',X_train_norm.shape, \n",
    "        'X_test:', X_valid_norm.shape,\n",
    "       \n",
    "       'y_train:', y_train.shape)\n"
   ]
  },
  {
   "cell_type": "markdown",
   "id": "79ca215e",
   "metadata": {
    "papermill": {
     "duration": 0.018938,
     "end_time": "2023-12-28T17:24:10.243422",
     "exception": false,
     "start_time": "2023-12-28T17:24:10.224484",
     "status": "completed"
    },
    "tags": []
   },
   "source": [
    "<a id=\"3\"></a>\n",
    "<h2 style='background:blue; border:0; color:white'><center>3. 💻 Predicting models </center><h2>"
   ]
  },
  {
   "cell_type": "markdown",
   "id": "ad7148fa",
   "metadata": {
    "papermill": {
     "duration": 0.018446,
     "end_time": "2023-12-28T17:24:10.280654",
     "exception": false,
     "start_time": "2023-12-28T17:24:10.262208",
     "status": "completed"
    },
    "tags": []
   },
   "source": [
    "Metric for modeling - Mean F-score"
   ]
  },
  {
   "cell_type": "code",
   "execution_count": 10,
   "id": "5e5aae39",
   "metadata": {
    "execution": {
     "iopub.execute_input": "2023-12-28T17:24:10.319603Z",
     "iopub.status.busy": "2023-12-28T17:24:10.319161Z",
     "iopub.status.idle": "2023-12-28T17:24:10.328215Z",
     "shell.execute_reply": "2023-12-28T17:24:10.327346Z"
    },
    "papermill": {
     "duration": 0.03127,
     "end_time": "2023-12-28T17:24:10.330556",
     "exception": false,
     "start_time": "2023-12-28T17:24:10.299286",
     "status": "completed"
    },
    "tags": []
   },
   "outputs": [],
   "source": [
    "#Plot for accuracy and val_loss\n",
    "def plot_accur(history, epochs=20):\n",
    "    acc = history.history['f1_score']\n",
    "    val_acc = history.history['val_f1_score']\n",
    "    loss = history.history['loss']\n",
    "    val_loss = history.history['val_loss']\n",
    "    epochs_range = range(epochs)\n",
    "    plt.figure(figsize=(12, 4))\n",
    "    plt.subplot(1, 2, 1)\n",
    "    plt.plot(epochs_range, acc, label='Training Mean F-score')\n",
    "    plt.plot(epochs_range, val_acc, label='Validation Mean F-score')\n",
    "    plt.legend(loc='lower right')\n",
    "    plt.title('Training and Validation Mean F-score')\n",
    "    \n",
    "    plt.subplot(1, 2, 2)\n",
    "    plt.plot(epochs_range, loss, label='Training Loss')\n",
    "    plt.plot(epochs_range, val_loss, label='Validation Loss')\n",
    "    plt.legend(loc='upper right')\n",
    "    plt.title('Training and Validation Loss')\n",
    "    plt.show()"
   ]
  },
  {
   "cell_type": "code",
   "execution_count": 11,
   "id": "e67f6b0b",
   "metadata": {
    "execution": {
     "iopub.execute_input": "2023-12-28T17:24:10.371218Z",
     "iopub.status.busy": "2023-12-28T17:24:10.370795Z",
     "iopub.status.idle": "2023-12-28T17:24:10.378531Z",
     "shell.execute_reply": "2023-12-28T17:24:10.377581Z"
    },
    "papermill": {
     "duration": 0.031002,
     "end_time": "2023-12-28T17:24:10.380619",
     "exception": false,
     "start_time": "2023-12-28T17:24:10.349617",
     "status": "completed"
    },
    "tags": []
   },
   "outputs": [],
   "source": [
    "def f1_score(y_true, y_pred):\n",
    "    # Function to calculate F-score\n",
    "    true_positives = K.sum(K.round(K.clip(y_true * y_pred, 0, 1)))\n",
    "    possible_positives = K.sum(K.round(K.clip(y_true, 0, 1)))\n",
    "    predicted_positives = K.sum(K.round(K.clip(y_pred, 0, 1)))\n",
    "    precision = true_positives / (predicted_positives + K.epsilon())\n",
    "    recall = true_positives / (possible_positives + K.epsilon())\n",
    "    f1_val = 2 * (precision * recall) / (precision + recall + K.epsilon())\n",
    "    return f1_val"
   ]
  },
  {
   "cell_type": "markdown",
   "id": "147de517",
   "metadata": {
    "papermill": {
     "duration": 0.019033,
     "end_time": "2023-12-28T17:24:10.418433",
     "exception": false,
     "start_time": "2023-12-28T17:24:10.399400",
     "status": "completed"
    },
    "tags": []
   },
   "source": [
    "The first experiments on basic models showed 56% accuracy and 53% val_accyracy.\n",
    "\n",
    "Things to consider:\n",
    " - complexity of models\n",
    " - reducing the learning rate\n",
    " - Add regularization techniques such as dropout or L1/L2 regularization\n",
    " - Balance your classes or use techniques like class weights."
   ]
  },
  {
   "cell_type": "markdown",
   "id": "08b6fa16",
   "metadata": {
    "papermill": {
     "duration": 0.018532,
     "end_time": "2023-12-28T17:24:10.455874",
     "exception": false,
     "start_time": "2023-12-28T17:24:10.437342",
     "status": "completed"
    },
    "tags": []
   },
   "source": [
    "# LSTM"
   ]
  },
  {
   "cell_type": "code",
   "execution_count": 12,
   "id": "f41e22cd",
   "metadata": {
    "execution": {
     "iopub.execute_input": "2023-12-28T17:24:10.502245Z",
     "iopub.status.busy": "2023-12-28T17:24:10.501292Z",
     "iopub.status.idle": "2023-12-28T17:26:48.504318Z",
     "shell.execute_reply": "2023-12-28T17:26:48.502947Z"
    },
    "papermill": {
     "duration": 158.037462,
     "end_time": "2023-12-28T17:26:48.515382",
     "exception": false,
     "start_time": "2023-12-28T17:24:10.477920",
     "status": "completed"
    },
    "tags": []
   },
   "outputs": [
    {
     "name": "stdout",
     "output_type": "stream",
     "text": [
      "Epoch 1/40\n",
      "9/9 [==============================] - 19s 569ms/step - loss: 179.0552 - f1_score: 0.0266 - val_loss: 162.2739 - val_f1_score: 0.0000e+00\n",
      "Epoch 2/40\n",
      "9/9 [==============================] - 2s 237ms/step - loss: 152.2855 - f1_score: 0.0647 - val_loss: 137.1404 - val_f1_score: 0.0000e+00\n",
      "Epoch 3/40\n",
      "9/9 [==============================] - 2s 248ms/step - loss: 127.7596 - f1_score: 0.1463 - val_loss: 114.0931 - val_f1_score: 0.0000e+00\n",
      "Epoch 4/40\n",
      "9/9 [==============================] - 2s 237ms/step - loss: 105.3954 - f1_score: 0.2531 - val_loss: 93.2581 - val_f1_score: 0.0000e+00\n",
      "Epoch 5/40\n",
      "9/9 [==============================] - 2s 238ms/step - loss: 85.3491 - f1_score: 0.3730 - val_loss: 74.6746 - val_f1_score: 0.0000e+00\n",
      "Epoch 6/40\n",
      "9/9 [==============================] - 2s 260ms/step - loss: 67.4861 - f1_score: 0.4340 - val_loss: 58.3072 - val_f1_score: 0.0000e+00\n",
      "Epoch 7/40\n",
      "9/9 [==============================] - 2s 267ms/step - loss: 52.0053 - f1_score: 0.5084 - val_loss: 44.2092 - val_f1_score: 0.0000e+00\n",
      "Epoch 8/40\n",
      "9/9 [==============================] - 2s 237ms/step - loss: 38.6019 - f1_score: 0.5768 - val_loss: 32.3762 - val_f1_score: 0.0000e+00\n",
      "Epoch 9/40\n",
      "9/9 [==============================] - 2s 235ms/step - loss: 27.7387 - f1_score: 0.5502 - val_loss: 22.7958 - val_f1_score: 0.0000e+00\n",
      "Epoch 10/40\n",
      "9/9 [==============================] - 2s 234ms/step - loss: 19.1160 - f1_score: 0.5477 - val_loss: 15.3098 - val_f1_score: 0.0000e+00\n",
      "Epoch 11/40\n",
      "9/9 [==============================] - 2s 238ms/step - loss: 12.2934 - f1_score: 0.5991 - val_loss: 9.8340 - val_f1_score: 0.0000e+00\n",
      "Epoch 12/40\n",
      "9/9 [==============================] - 2s 241ms/step - loss: 7.8859 - f1_score: 0.5469 - val_loss: 6.4958 - val_f1_score: 0.0000e+00\n",
      "Epoch 13/40\n",
      "9/9 [==============================] - 2s 234ms/step - loss: 5.0120 - f1_score: 0.6380 - val_loss: 4.8766 - val_f1_score: 0.0000e+00\n",
      "Epoch 14/40\n",
      "9/9 [==============================] - 2s 234ms/step - loss: 3.8791 - f1_score: 0.6404 - val_loss: 3.9706 - val_f1_score: 0.0000e+00\n",
      "Epoch 15/40\n",
      "9/9 [==============================] - 2s 238ms/step - loss: 3.2665 - f1_score: 0.6042 - val_loss: 3.5204 - val_f1_score: 0.0000e+00\n",
      "Epoch 16/40\n",
      "9/9 [==============================] - 2s 241ms/step - loss: 2.6744 - f1_score: 0.6136 - val_loss: 3.1658 - val_f1_score: 0.0000e+00\n",
      "Epoch 17/40\n",
      "9/9 [==============================] - 2s 244ms/step - loss: 2.4439 - f1_score: 0.6288 - val_loss: 2.9796 - val_f1_score: 0.4238\n",
      "Epoch 18/40\n",
      "9/9 [==============================] - 2s 238ms/step - loss: 2.2802 - f1_score: 0.6287 - val_loss: 2.8810 - val_f1_score: 0.4584\n",
      "Epoch 19/40\n",
      "9/9 [==============================] - 2s 236ms/step - loss: 3.0249 - f1_score: 0.5507 - val_loss: 3.5788 - val_f1_score: 0.2971\n",
      "Epoch 20/40\n",
      "9/9 [==============================] - 2s 239ms/step - loss: 2.8805 - f1_score: 0.6037 - val_loss: 5.5572 - val_f1_score: 0.0000e+00\n",
      "Epoch 21/40\n",
      "9/9 [==============================] - 2s 278ms/step - loss: 2.1842 - f1_score: 0.6648 - val_loss: 2.8856 - val_f1_score: 0.0000e+00\n",
      "Epoch 22/40\n",
      "9/9 [==============================] - 2s 248ms/step - loss: 1.9111 - f1_score: 0.6780 - val_loss: 2.6725 - val_f1_score: 0.2369\n",
      "Epoch 23/40\n",
      "9/9 [==============================] - 2s 236ms/step - loss: 1.6974 - f1_score: 0.7083 - val_loss: 2.6364 - val_f1_score: 0.5264\n",
      "Epoch 24/40\n",
      "9/9 [==============================] - 2s 235ms/step - loss: 1.7554 - f1_score: 0.6940 - val_loss: 2.5362 - val_f1_score: 0.5228\n",
      "Epoch 25/40\n",
      "9/9 [==============================] - 2s 235ms/step - loss: 1.7872 - f1_score: 0.6947 - val_loss: 2.8163 - val_f1_score: 0.5260\n",
      "Epoch 26/40\n",
      "9/9 [==============================] - 2s 245ms/step - loss: 1.6680 - f1_score: 0.7164 - val_loss: 2.8483 - val_f1_score: 0.5260\n",
      "Epoch 27/40\n",
      "9/9 [==============================] - 2s 235ms/step - loss: 1.5947 - f1_score: 0.7203 - val_loss: 2.8379 - val_f1_score: 0.5259\n",
      "Epoch 28/40\n",
      "9/9 [==============================] - 2s 236ms/step - loss: 1.6997 - f1_score: 0.7009 - val_loss: 2.9335 - val_f1_score: 0.5286\n",
      "Epoch 29/40\n",
      "9/9 [==============================] - 2s 234ms/step - loss: 1.9314 - f1_score: 0.6887 - val_loss: 3.0235 - val_f1_score: 0.4874\n",
      "Epoch 30/40\n",
      "9/9 [==============================] - 2s 234ms/step - loss: 1.6920 - f1_score: 0.7152 - val_loss: 3.0810 - val_f1_score: 0.4560\n",
      "Epoch 31/40\n",
      "9/9 [==============================] - 2s 236ms/step - loss: 1.8397 - f1_score: 0.6686 - val_loss: 2.8571 - val_f1_score: 0.5257\n",
      "Epoch 32/40\n",
      "9/9 [==============================] - 2s 236ms/step - loss: 1.5990 - f1_score: 0.7111 - val_loss: 2.6195 - val_f1_score: 0.5424\n",
      "Epoch 33/40\n",
      "9/9 [==============================] - 2s 237ms/step - loss: 1.5676 - f1_score: 0.6865 - val_loss: 2.8489 - val_f1_score: 0.5309\n",
      "Epoch 34/40\n",
      "9/9 [==============================] - 2s 239ms/step - loss: 1.5174 - f1_score: 0.7348 - val_loss: 3.1289 - val_f1_score: 0.5247\n",
      "Epoch 35/40\n",
      "9/9 [==============================] - 2s 244ms/step - loss: 1.3542 - f1_score: 0.7541 - val_loss: 3.0458 - val_f1_score: 0.5026\n",
      "Epoch 36/40\n",
      "9/9 [==============================] - 2s 278ms/step - loss: 1.2945 - f1_score: 0.7442 - val_loss: 3.2749 - val_f1_score: 0.4603\n",
      "Epoch 37/40\n",
      "9/9 [==============================] - 2s 242ms/step - loss: 1.3859 - f1_score: 0.7457 - val_loss: 3.4840 - val_f1_score: 0.0021\n",
      "Epoch 38/40\n",
      "9/9 [==============================] - 2s 232ms/step - loss: 1.3152 - f1_score: 0.7458 - val_loss: 3.2619 - val_f1_score: 0.2362\n",
      "Epoch 39/40\n",
      "9/9 [==============================] - 2s 231ms/step - loss: 1.6255 - f1_score: 0.6974 - val_loss: 6.1416 - val_f1_score: 0.0152\n",
      "Epoch 40/40\n",
      "9/9 [==============================] - 2s 242ms/step - loss: 1.5310 - f1_score: 0.7309 - val_loss: 4.4900 - val_f1_score: 0.0628\n"
     ]
    },
    {
     "data": {
      "image/png": "[encoded data removed]",
      "text/plain": [
       "<Figure size 1200x400 with 2 Axes>"
      ]
     },
     "metadata": {},
     "output_type": "display_data"
    }
   ],
   "source": [
    "from keras.models import Sequential\n",
    "from keras.layers import LSTM, Dense,BatchNormalization\n",
    "from keras.layers import TimeDistributed\n",
    "from keras.optimizers import Adam\n",
    "from keras.layers import Dropout\n",
    "# Bidirectional layers can allow the model to learn from both past and future time steps.\n",
    "from keras.layers import Bidirectional\n",
    "from keras.regularizers import l1\n",
    "from keras.layers import GRU\n",
    "from keras import backend as K \n",
    "\n",
    "model_lstm = Sequential()\n",
    "model_lstm.add(Bidirectional(LSTM(100, return_sequences=True, kernel_regularizer=l1(0.1)), \n",
    "                             input_shape=(n_timesteps, n_features)))\n",
    "model_lstm.add(BatchNormalization())\n",
    "model_lstm.add(Bidirectional(LSTM(50, return_sequences=True)))\n",
    "model_lstm.add(BatchNormalization())\n",
    "model_lstm.add(Bidirectional(LSTM(50, return_sequences=True)))\n",
    "model_lstm.add(BatchNormalization())\n",
    "model_lstm.add(Dropout(0.2))\n",
    "model_lstm.add(TimeDistributed(Dense(n_classes, activation='softmax')))\n",
    "optimizer = Adam(learning_rate=0.001)\n",
    "model_lstm.compile(loss='categorical_crossentropy', \n",
    "                   optimizer=optimizer, \n",
    "                   metrics=[f1_score])\n",
    "history_lstm = model_lstm.fit(X_train_norm, \n",
    "                    y_train, \n",
    "                    epochs=40, \n",
    "                    batch_size=32, \n",
    "                    validation_data=(X_valid_norm, y_valid))\n",
    "plot_accur(history_lstm, epochs=40)\n",
    "\n",
    "K.clear_session()"
   ]
  },
  {
   "cell_type": "markdown",
   "id": "b3423aad",
   "metadata": {
    "papermill": {
     "duration": 0.06243,
     "end_time": "2023-12-28T17:26:48.639369",
     "exception": false,
     "start_time": "2023-12-28T17:26:48.576939",
     "status": "completed"
    },
    "tags": []
   },
   "source": [
    "# Gated Recurrent Unit (GRU) "
   ]
  },
  {
   "cell_type": "code",
   "execution_count": 13,
   "id": "66b351b1",
   "metadata": {
    "execution": {
     "iopub.execute_input": "2023-12-28T17:26:48.765996Z",
     "iopub.status.busy": "2023-12-28T17:26:48.765214Z",
     "iopub.status.idle": "2023-12-28T17:29:30.159024Z",
     "shell.execute_reply": "2023-12-28T17:29:30.157813Z"
    },
    "papermill": {
     "duration": 161.568363,
     "end_time": "2023-12-28T17:29:30.269765",
     "exception": false,
     "start_time": "2023-12-28T17:26:48.701402",
     "status": "completed"
    },
    "tags": []
   },
   "outputs": [
    {
     "name": "stdout",
     "output_type": "stream",
     "text": [
      "Epoch 1/40\n",
      "9/9 [==============================] - 23s 659ms/step - loss: 13.3547 - f1_score: 0.0474 - val_loss: 6.6864 - val_f1_score: 0.0000e+00\n",
      "Epoch 2/40\n",
      "9/9 [==============================] - 3s 281ms/step - loss: 5.5614 - f1_score: 0.1424 - val_loss: 4.4311 - val_f1_score: 0.1613\n",
      "Epoch 3/40\n",
      "9/9 [==============================] - 3s 282ms/step - loss: 3.8160 - f1_score: 0.3736 - val_loss: 3.3410 - val_f1_score: 0.0000e+00\n",
      "Epoch 4/40\n",
      "9/9 [==============================] - 3s 319ms/step - loss: 3.0194 - f1_score: 0.4520 - val_loss: 2.6959 - val_f1_score: 0.5260\n",
      "Epoch 5/40\n",
      "9/9 [==============================] - 3s 291ms/step - loss: 2.4381 - f1_score: 0.4663 - val_loss: 2.2907 - val_f1_score: 0.1877\n",
      "Epoch 6/40\n",
      "9/9 [==============================] - 3s 282ms/step - loss: 2.2055 - f1_score: 0.4708 - val_loss: 2.2571 - val_f1_score: 0.5220\n",
      "Epoch 7/40\n",
      "9/9 [==============================] - 2s 277ms/step - loss: 2.1956 - f1_score: 0.4256 - val_loss: 2.1882 - val_f1_score: 0.5111\n",
      "Epoch 8/40\n",
      "9/9 [==============================] - 2s 277ms/step - loss: 1.9889 - f1_score: 0.4217 - val_loss: 2.1765 - val_f1_score: 0.5125\n",
      "Epoch 9/40\n",
      "9/9 [==============================] - 3s 286ms/step - loss: 1.9067 - f1_score: 0.4708 - val_loss: 2.3233 - val_f1_score: 0.5187\n",
      "Epoch 10/40\n",
      "9/9 [==============================] - 3s 284ms/step - loss: 1.9391 - f1_score: 0.4791 - val_loss: 2.2859 - val_f1_score: 0.0000e+00\n",
      "Epoch 11/40\n",
      "9/9 [==============================] - 3s 283ms/step - loss: 1.8387 - f1_score: 0.5662 - val_loss: 2.2999 - val_f1_score: 0.0000e+00\n",
      "Epoch 12/40\n",
      "9/9 [==============================] - 3s 293ms/step - loss: 1.9414 - f1_score: 0.5482 - val_loss: 2.6011 - val_f1_score: 0.2753\n",
      "Epoch 13/40\n",
      "9/9 [==============================] - 3s 294ms/step - loss: 1.9732 - f1_score: 0.5677 - val_loss: 2.4410 - val_f1_score: 0.4741\n",
      "Epoch 14/40\n",
      "9/9 [==============================] - 3s 286ms/step - loss: 1.7248 - f1_score: 0.6159 - val_loss: 2.4049 - val_f1_score: 0.5135\n",
      "Epoch 15/40\n",
      "9/9 [==============================] - 3s 294ms/step - loss: 1.6971 - f1_score: 0.5896 - val_loss: 2.6365 - val_f1_score: 0.0729\n",
      "Epoch 16/40\n",
      "9/9 [==============================] - 2s 279ms/step - loss: 1.6628 - f1_score: 0.6357 - val_loss: 2.6183 - val_f1_score: 0.5022\n",
      "Epoch 17/40\n",
      "9/9 [==============================] - 3s 330ms/step - loss: 2.2058 - f1_score: 0.5422 - val_loss: 2.9871 - val_f1_score: 0.4092\n",
      "Epoch 18/40\n",
      "9/9 [==============================] - 3s 280ms/step - loss: 1.7555 - f1_score: 0.6298 - val_loss: 2.7133 - val_f1_score: 0.4928\n",
      "Epoch 19/40\n",
      "9/9 [==============================] - 3s 282ms/step - loss: 1.9826 - f1_score: 0.5669 - val_loss: 2.5512 - val_f1_score: 0.3037\n",
      "Epoch 20/40\n",
      "9/9 [==============================] - 3s 284ms/step - loss: 1.7490 - f1_score: 0.6464 - val_loss: 2.2064 - val_f1_score: 0.5188\n",
      "Epoch 21/40\n",
      "9/9 [==============================] - 3s 284ms/step - loss: 1.5020 - f1_score: 0.6615 - val_loss: 2.4634 - val_f1_score: 0.4873\n",
      "Epoch 22/40\n",
      "9/9 [==============================] - 2s 279ms/step - loss: 1.6442 - f1_score: 0.6515 - val_loss: 2.4741 - val_f1_score: 0.5192\n",
      "Epoch 23/40\n",
      "9/9 [==============================] - 2s 279ms/step - loss: 1.9996 - f1_score: 0.5887 - val_loss: 2.8508 - val_f1_score: 0.3381\n",
      "Epoch 24/40\n",
      "9/9 [==============================] - 3s 281ms/step - loss: 2.0355 - f1_score: 0.5869 - val_loss: 2.8686 - val_f1_score: 0.4812\n",
      "Epoch 25/40\n",
      "9/9 [==============================] - 3s 285ms/step - loss: 1.9791 - f1_score: 0.6497 - val_loss: 3.0735 - val_f1_score: 0.5254\n",
      "Epoch 26/40\n",
      "9/9 [==============================] - 2s 280ms/step - loss: 1.7087 - f1_score: 0.6812 - val_loss: 3.2829 - val_f1_score: 0.5064\n",
      "Epoch 27/40\n",
      "9/9 [==============================] - 3s 283ms/step - loss: 1.5940 - f1_score: 0.6863 - val_loss: 2.8986 - val_f1_score: 0.5260\n",
      "Epoch 28/40\n",
      "9/9 [==============================] - 3s 281ms/step - loss: 1.5733 - f1_score: 0.6804 - val_loss: 2.7764 - val_f1_score: 0.4564\n",
      "Epoch 29/40\n",
      "9/9 [==============================] - 3s 348ms/step - loss: 1.4967 - f1_score: 0.6982 - val_loss: 3.1455 - val_f1_score: 0.3571\n",
      "Epoch 30/40\n",
      "9/9 [==============================] - 3s 277ms/step - loss: 1.2190 - f1_score: 0.7353 - val_loss: 2.7640 - val_f1_score: 0.5260\n",
      "Epoch 31/40\n",
      "9/9 [==============================] - 2s 279ms/step - loss: 1.5433 - f1_score: 0.7179 - val_loss: 3.4120 - val_f1_score: 0.3158\n",
      "Epoch 32/40\n",
      "9/9 [==============================] - 3s 280ms/step - loss: 1.7371 - f1_score: 0.6753 - val_loss: 2.8379 - val_f1_score: 0.5384\n",
      "Epoch 33/40\n",
      "9/9 [==============================] - 3s 284ms/step - loss: 1.5238 - f1_score: 0.7254 - val_loss: 2.5821 - val_f1_score: 0.4720\n",
      "Epoch 34/40\n",
      "9/9 [==============================] - 3s 285ms/step - loss: 1.4220 - f1_score: 0.7172 - val_loss: 3.1873 - val_f1_score: 0.4895\n",
      "Epoch 35/40\n",
      "9/9 [==============================] - 3s 287ms/step - loss: 1.5066 - f1_score: 0.7062 - val_loss: 4.0799 - val_f1_score: 0.2359\n",
      "Epoch 36/40\n",
      "9/9 [==============================] - 3s 283ms/step - loss: 1.3631 - f1_score: 0.7277 - val_loss: 2.8358 - val_f1_score: 0.2912\n",
      "Epoch 37/40\n",
      "9/9 [==============================] - 3s 278ms/step - loss: 1.3317 - f1_score: 0.7148 - val_loss: 2.3914 - val_f1_score: 0.5570\n",
      "Epoch 38/40\n",
      "9/9 [==============================] - 3s 285ms/step - loss: 1.3657 - f1_score: 0.7303 - val_loss: 2.3896 - val_f1_score: 0.4772\n",
      "Epoch 39/40\n",
      "9/9 [==============================] - 2s 278ms/step - loss: 1.4628 - f1_score: 0.6994 - val_loss: 4.1224 - val_f1_score: 0.0261\n",
      "Epoch 40/40\n",
      "9/9 [==============================] - 3s 283ms/step - loss: 1.6748 - f1_score: 0.6998 - val_loss: 2.6671 - val_f1_score: 0.5721\n"
     ]
    },
    {
     "data": {
      "image/png": "[encoded data removed]",
      "text/plain": [
       "<Figure size 1200x400 with 2 Axes>"
      ]
     },
     "metadata": {},
     "output_type": "display_data"
    }
   ],
   "source": [
    "model_gru = Sequential()\n",
    "model_gru.add(Bidirectional(GRU(100, return_sequences=True,\n",
    "                            kernel_regularizer=l1(0.01)), \n",
    "                        input_shape=(n_timesteps, n_features)\n",
    "                       ))\n",
    "model_gru.add(BatchNormalization())\n",
    "model_gru.add(Bidirectional(GRU(50, return_sequences=True)))\n",
    "model_gru.add(BatchNormalization())\n",
    "model_gru.add(Bidirectional(GRU(50, return_sequences=True)))\n",
    "model_gru.add(BatchNormalization())\n",
    "model_gru.add(Bidirectional(GRU(25, return_sequences=True)))\n",
    "model_gru.add(BatchNormalization())\n",
    "model_gru.add(Dropout(0.2))\n",
    "model_gru.add(TimeDistributed(Dense(n_classes, activation='softmax')))\n",
    "optimizer = Adam(learning_rate=0.01)\n",
    "model_gru.compile(loss='categorical_crossentropy', optimizer=optimizer, metrics=[f1_score])\n",
    "history_gru = model_gru.fit(X_train_norm, \n",
    "                    y_train, \n",
    "                    epochs=40, \n",
    "                    batch_size=32, \n",
    "                    validation_data=(X_valid_norm, y_valid))\n",
    "plot_accur(history_gru, epochs=40)\n"
   ]
  },
  {
   "cell_type": "markdown",
   "id": "aa2227c5",
   "metadata": {
    "papermill": {
     "duration": 0.106604,
     "end_time": "2023-12-28T17:29:30.482210",
     "exception": false,
     "start_time": "2023-12-28T17:29:30.375606",
     "status": "completed"
    },
    "tags": []
   },
   "source": [
    "<a id=\"4\"></a>\n",
    "<h2 style='background:blue; border:0; color:white'><center>4. 🔎 Optimization of hyperparameters </center><h2>"
   ]
  },
  {
   "cell_type": "code",
   "execution_count": 14,
   "id": "4b247c6a",
   "metadata": {
    "execution": {
     "iopub.execute_input": "2023-12-28T17:29:30.696913Z",
     "iopub.status.busy": "2023-12-28T17:29:30.696067Z",
     "iopub.status.idle": "2023-12-28T17:29:30.701060Z",
     "shell.execute_reply": "2023-12-28T17:29:30.700192Z"
    },
    "papermill": {
     "duration": 0.115391,
     "end_time": "2023-12-28T17:29:30.703402",
     "exception": false,
     "start_time": "2023-12-28T17:29:30.588011",
     "status": "completed"
    },
    "tags": []
   },
   "outputs": [],
   "source": [
    "#pip install keras scikit-learn"
   ]
  },
  {
   "cell_type": "code",
   "execution_count": 15,
   "id": "a0f1c374",
   "metadata": {
    "execution": {
     "iopub.execute_input": "2023-12-28T17:29:30.918360Z",
     "iopub.status.busy": "2023-12-28T17:29:30.917458Z",
     "iopub.status.idle": "2023-12-28T17:29:30.922383Z",
     "shell.execute_reply": "2023-12-28T17:29:30.921538Z"
    },
    "papermill": {
     "duration": 0.115538,
     "end_time": "2023-12-28T17:29:30.924750",
     "exception": false,
     "start_time": "2023-12-28T17:29:30.809212",
     "status": "completed"
    },
    "tags": []
   },
   "outputs": [],
   "source": [
    "#pip install scikeras"
   ]
  },
  {
   "cell_type": "code",
   "execution_count": 16,
   "id": "37802e20",
   "metadata": {
    "execution": {
     "iopub.execute_input": "2023-12-28T17:29:31.144872Z",
     "iopub.status.busy": "2023-12-28T17:29:31.144053Z",
     "iopub.status.idle": "2023-12-28T17:29:31.291425Z",
     "shell.execute_reply": "2023-12-28T17:29:31.290150Z"
    },
    "papermill": {
     "duration": 0.260627,
     "end_time": "2023-12-28T17:29:31.294408",
     "exception": false,
     "start_time": "2023-12-28T17:29:31.033781",
     "status": "completed"
    },
    "tags": []
   },
   "outputs": [],
   "source": [
    "from sklearn.base import BaseEstimator, ClassifierMixin\n",
    "from tensorflow.keras.models import Sequential\n",
    "from tensorflow.keras.layers import Bidirectional, GRU, BatchNormalization, Dropout, TimeDistributed, Dense\n",
    "from tensorflow.keras.optimizers import Adam\n",
    "from tensorflow.keras.regularizers import l1\n",
    "\n",
    "class KerasClassifierWrapper(BaseEstimator, ClassifierMixin):\n",
    "    def __init__(self, n_timesteps, n_features, n_classes, \n",
    "                 units1=100, units2=50, units3=50,\n",
    "                 l1_reg=0.01, dropout=0.2, learning_rate=0.001, \n",
    "                 epochs=10, batch_size=32, verbose=0):\n",
    "        self.n_timesteps = n_timesteps\n",
    "        self.n_features = n_features\n",
    "        self.n_classes = n_classes\n",
    "        self.units1 = units1\n",
    "        self.units2 = units2\n",
    "        self.units3 = units3\n",
    "        self.l1_reg = l1_reg\n",
    "        self.dropout = dropout\n",
    "        self.learning_rate = learning_rate\n",
    "        self.epochs = epochs\n",
    "        self.batch_size = batch_size\n",
    "        self.verbose = verbose\n",
    "        self.model = self.create_model()\n",
    "\n",
    "    def create_model(self):\n",
    "        model = Sequential()\n",
    "        model.add(Bidirectional(GRU(self.units1, return_sequences=True, kernel_regularizer=l1(self.l1_reg)),\n",
    "                                input_shape=(self.n_timesteps, self.n_features)))\n",
    "        model.add(BatchNormalization())\n",
    "        model.add(Bidirectional(GRU(self.units2, return_sequences=True)))\n",
    "        model.add(BatchNormalization())\n",
    "        model.add(Bidirectional(GRU(self.units3, return_sequences=True)))\n",
    "        model.add(BatchNormalization())\n",
    "        model.add(Dropout(self.dropout))\n",
    "        model.add(TimeDistributed(Dense(self.n_classes, activation='softmax')))\n",
    "        optimizer = Adam(learning_rate=self.learning_rate)\n",
    "        model.compile(loss='categorical_crossentropy', \n",
    "                      optimizer=optimizer, \n",
    "                      metrics=[f1_score])\n",
    "        return model\n",
    "\n",
    "    def fit(self, X, y, validation_data=None):\n",
    "        history = self.model.fit(X, y, \n",
    "                                 epochs=self.epochs, \n",
    "                                 batch_size=self.batch_size, \n",
    "                                 verbose=self.verbose,\n",
    "                                validation_data=(X_valid, y_valid))\n",
    "        return history\n",
    "\n",
    "    def predict(self, X):\n",
    "        return self.model.predict(X)"
   ]
  },
  {
   "cell_type": "code",
   "execution_count": 17,
   "id": "428729f6",
   "metadata": {
    "execution": {
     "iopub.execute_input": "2023-12-28T17:29:31.509618Z",
     "iopub.status.busy": "2023-12-28T17:29:31.509153Z",
     "iopub.status.idle": "2023-12-28T18:03:36.281644Z",
     "shell.execute_reply": "2023-12-28T18:03:36.280347Z"
    },
    "papermill": {
     "duration": 2045.003178,
     "end_time": "2023-12-28T18:03:36.404585",
     "exception": false,
     "start_time": "2023-12-28T17:29:31.401407",
     "status": "completed"
    },
    "tags": []
   },
   "outputs": [
    {
     "name": "stdout",
     "output_type": "stream",
     "text": [
      "Fitting 3 folds for each of 10 candidates, totalling 30 fits\n",
      "3/3 [==============================] - 2s 62ms/step\n",
      "[CV] END dropout=0.3, epochs=40, l1_reg=0.1, learning_rate=0.001, units1=174, units2=36, units3=22; total time= 1.6min\n",
      "3/3 [==============================] - 2s 65ms/step\n",
      "[CV] END dropout=0.3, epochs=40, l1_reg=0.1, learning_rate=0.001, units1=174, units2=36, units3=22; total time= 1.6min\n",
      "3/3 [==============================] - 2s 60ms/step\n",
      "[CV] END dropout=0.3, epochs=40, l1_reg=0.1, learning_rate=0.001, units1=174, units2=36, units3=22; total time= 1.3min\n",
      "3/3 [==============================] - 2s 63ms/step\n",
      "[CV] END dropout=0.4, epochs=20, l1_reg=0.01, learning_rate=0.1, units1=178, units2=19, units3=47; total time=  55.4s\n",
      "3/3 [==============================] - 2s 68ms/step\n",
      "[CV] END dropout=0.4, epochs=20, l1_reg=0.01, learning_rate=0.1, units1=178, units2=19, units3=47; total time=  46.1s\n",
      "3/3 [==============================] - 2s 67ms/step\n",
      "[CV] END dropout=0.4, epochs=20, l1_reg=0.01, learning_rate=0.1, units1=178, units2=19, units3=47; total time=  48.5s\n",
      "3/3 [==============================] - 2s 64ms/step\n",
      "[CV] END dropout=0.3, epochs=48, l1_reg=0.0, learning_rate=0.01, units1=131, units2=30, units3=7; total time= 1.6min\n",
      "3/3 [==============================] - 2s 63ms/step\n",
      "[CV] END dropout=0.3, epochs=48, l1_reg=0.0, learning_rate=0.01, units1=131, units2=30, units3=7; total time= 1.4min\n",
      "3/3 [==============================] - 2s 69ms/step\n",
      "[CV] END dropout=0.3, epochs=48, l1_reg=0.0, learning_rate=0.01, units1=131, units2=30, units3=7; total time= 1.5min\n",
      "3/3 [==============================] - 2s 64ms/step\n",
      "[CV] END dropout=0.2, epochs=15, l1_reg=0.01, learning_rate=0.001, units1=189, units2=17, units3=44; total time=  38.9s\n",
      "3/3 [==============================] - 2s 71ms/step\n",
      "[CV] END dropout=0.2, epochs=15, l1_reg=0.01, learning_rate=0.001, units1=189, units2=17, units3=44; total time=  55.7s\n",
      "3/3 [==============================] - 2s 63ms/step\n",
      "[CV] END dropout=0.2, epochs=15, l1_reg=0.01, learning_rate=0.001, units1=189, units2=17, units3=44; total time=  40.5s\n",
      "3/3 [==============================] - 2s 64ms/step\n",
      "[CV] END dropout=0.3, epochs=18, l1_reg=0.01, learning_rate=0.01, units1=175, units2=39, units3=21; total time=  55.4s\n",
      "3/3 [==============================] - 2s 63ms/step\n",
      "[CV] END dropout=0.3, epochs=18, l1_reg=0.01, learning_rate=0.01, units1=175, units2=39, units3=21; total time=  44.1s\n",
      "3/3 [==============================] - 2s 69ms/step\n",
      "[CV] END dropout=0.3, epochs=18, l1_reg=0.01, learning_rate=0.01, units1=175, units2=39, units3=21; total time=  45.1s\n",
      "3/3 [==============================] - 2s 64ms/step\n",
      "[CV] END dropout=0.3, epochs=26, l1_reg=0.01, learning_rate=0.001, units1=169, units2=18, units3=10; total time=  55.6s\n",
      "3/3 [==============================] - 2s 67ms/step\n",
      "[CV] END dropout=0.3, epochs=26, l1_reg=0.01, learning_rate=0.001, units1=169, units2=18, units3=10; total time=  55.9s\n",
      "3/3 [==============================] - 2s 63ms/step\n",
      "[CV] END dropout=0.3, epochs=26, l1_reg=0.01, learning_rate=0.001, units1=169, units2=18, units3=10; total time=  57.5s\n",
      "3/3 [==============================] - 2s 61ms/step\n",
      "[CV] END dropout=0.4, epochs=10, l1_reg=0.01, learning_rate=0.1, units1=95, units2=45, units3=41; total time=  31.9s\n",
      "3/3 [==============================] - 2s 65ms/step\n",
      "[CV] END dropout=0.4, epochs=10, l1_reg=0.01, learning_rate=0.1, units1=95, units2=45, units3=41; total time=  32.3s\n",
      "3/3 [==============================] - 2s 65ms/step\n",
      "[CV] END dropout=0.4, epochs=10, l1_reg=0.01, learning_rate=0.1, units1=95, units2=45, units3=41; total time=  37.2s\n",
      "3/3 [==============================] - 2s 61ms/step\n",
      "[CV] END dropout=0.4, epochs=18, l1_reg=0.1, learning_rate=0.1, units1=186, units2=27, units3=12; total time=  42.9s\n",
      "3/3 [==============================] - 2s 62ms/step\n",
      "[CV] END dropout=0.4, epochs=18, l1_reg=0.1, learning_rate=0.1, units1=186, units2=27, units3=12; total time=  55.8s\n",
      "3/3 [==============================] - 2s 66ms/step\n",
      "[CV] END dropout=0.4, epochs=18, l1_reg=0.1, learning_rate=0.1, units1=186, units2=27, units3=12; total time=  58.3s\n",
      "3/3 [==============================] - 2s 61ms/step\n",
      "[CV] END dropout=0.4, epochs=44, l1_reg=0.01, learning_rate=0.1, units1=91, units2=8, units3=2; total time= 1.6min\n",
      "3/3 [==============================] - 2s 63ms/step\n",
      "[CV] END dropout=0.4, epochs=44, l1_reg=0.01, learning_rate=0.1, units1=91, units2=8, units3=2; total time= 1.4min\n",
      "3/3 [==============================] - 2s 65ms/step\n",
      "[CV] END dropout=0.4, epochs=44, l1_reg=0.01, learning_rate=0.1, units1=91, units2=8, units3=2; total time= 1.4min\n",
      "3/3 [==============================] - 4s 69ms/step\n",
      "[CV] END dropout=0.4, epochs=22, l1_reg=0.01, learning_rate=0.01, units1=175, units2=46, units3=41; total time=  50.8s\n",
      "3/3 [==============================] - 2s 63ms/step\n",
      "[CV] END dropout=0.4, epochs=22, l1_reg=0.01, learning_rate=0.01, units1=175, units2=46, units3=41; total time=  49.5s\n",
      "3/3 [==============================] - 2s 68ms/step\n",
      "[CV] END dropout=0.4, epochs=22, l1_reg=0.01, learning_rate=0.01, units1=175, units2=46, units3=41; total time=  58.4s\n",
      "Best Hyperparameters: {'dropout': 0.3, 'epochs': 40, 'l1_reg': 0.1, 'learning_rate': 0.001, 'units1': 174, 'units2': 36, 'units3': 22}\n"
     ]
    }
   ],
   "source": [
    "from scipy.stats import randint\n",
    "from sklearn.model_selection import RandomizedSearchCV\n",
    "from tensorflow.keras.utils import to_categorical\n",
    "\n",
    "# Define the hyperparameter search space\n",
    "param_dist = {\n",
    "    'units1': randint(50, 200),\n",
    "    'units2': randint(0,50),\n",
    "    'units3': randint(0,50),\n",
    "    'l1_reg': [0.0, 0.01, 0.1],  # L1 regularization parameter\n",
    "    'dropout': [0.2, 0.3, 0.4],  # Dropout rate\n",
    "    'learning_rate': [0.001, 0.01, 0.1],  # Learning rate\n",
    "    'epochs': randint(10,50)\n",
    "}\n",
    "\n",
    "# Create an instance of KerasClassifierWrapper\n",
    "wrapper = KerasClassifierWrapper(n_timesteps, n_features, n_classes)\n",
    "\n",
    "# Use RandomizedSearchCV for hyperparameter search\n",
    "random_search = RandomizedSearchCV(estimator=wrapper, \n",
    "                                   param_distributions=param_dist, \n",
    "                                   n_iter=10, \n",
    "                                   cv=3, \n",
    "                                   verbose=2)\n",
    "\n",
    "random_search.fit(X_train_norm, y_train,\n",
    "                 validation_data=(X_valid_norm, y_valid))\n",
    "\n",
    "# Get the best parameters\n",
    "best_params = random_search.best_params_\n",
    "print(\"Best Hyperparameters:\", best_params)"
   ]
  },
  {
   "cell_type": "code",
   "execution_count": 18,
   "id": "cd9a98e7",
   "metadata": {
    "execution": {
     "iopub.execute_input": "2023-12-28T18:03:36.648543Z",
     "iopub.status.busy": "2023-12-28T18:03:36.648120Z",
     "iopub.status.idle": "2023-12-28T18:06:12.665481Z",
     "shell.execute_reply": "2023-12-28T18:06:12.663953Z"
    },
    "papermill": {
     "duration": 156.143069,
     "end_time": "2023-12-28T18:06:12.668552",
     "exception": false,
     "start_time": "2023-12-28T18:03:36.525483",
     "status": "completed"
    },
    "tags": []
   },
   "outputs": [],
   "source": [
    "#Best Hyperparameters: {'dropout': 0.4, 'epochs': 47, 'l1_reg': 0.1, 'learning_rate': 0.01, 'units1': 96, 'units2': 6, 'units3': 37}\n",
    "best_model = KerasClassifierWrapper(n_timesteps, n_features, n_classes, **best_params)\n",
    "history_bm = best_model.fit(X_train_norm, y_train,\n",
    "                        validation_data=(X_valid_norm, y_valid))"
   ]
  },
  {
   "cell_type": "code",
   "execution_count": 19,
   "id": "d88054f2",
   "metadata": {
    "execution": {
     "iopub.execute_input": "2023-12-28T18:06:12.913818Z",
     "iopub.status.busy": "2023-12-28T18:06:12.913356Z",
     "iopub.status.idle": "2023-12-28T18:06:13.458461Z",
     "shell.execute_reply": "2023-12-28T18:06:13.457130Z"
    },
    "papermill": {
     "duration": 0.670956,
     "end_time": "2023-12-28T18:06:13.461269",
     "exception": false,
     "start_time": "2023-12-28T18:06:12.790313",
     "status": "completed"
    },
    "tags": []
   },
   "outputs": [
    {
     "data": {
      "image/png": "[encoded data removed]",
      "text/plain": [
       "<Figure size 1200x400 with 2 Axes>"
      ]
     },
     "metadata": {},
     "output_type": "display_data"
    }
   ],
   "source": [
    "# Access training and validation accuracy and loss\n",
    "training_accuracy = history_bm.history['f1_score']\n",
    "validation_accuracy = history_bm.history['val_f1_score']\n",
    "\n",
    "training_loss = history_bm.history['loss']\n",
    "validation_loss = history_bm.history['val_loss']\n",
    "\n",
    "# Plot the accuracy and loss curves\n",
    "plot_accur(history_bm, epochs=len(training_accuracy))"
   ]
  },
  {
   "cell_type": "markdown",
   "id": "3deb575a",
   "metadata": {
    "papermill": {
     "duration": 0.121509,
     "end_time": "2023-12-28T18:06:13.705841",
     "exception": false,
     "start_time": "2023-12-28T18:06:13.584332",
     "status": "completed"
    },
    "tags": []
   },
   "source": [
    "<a id=\"5\"></a>\n",
    "<h2 style='background:blue; border:0; color:white'><center>5. 🔮 Prediction of movements in test data </center><h2>"
   ]
  },
  {
   "cell_type": "code",
   "execution_count": 20,
   "id": "c155240b",
   "metadata": {
    "execution": {
     "iopub.execute_input": "2023-12-28T18:06:13.954948Z",
     "iopub.status.busy": "2023-12-28T18:06:13.954280Z",
     "iopub.status.idle": "2023-12-28T18:06:13.974361Z",
     "shell.execute_reply": "2023-12-28T18:06:13.973061Z"
    },
    "papermill": {
     "duration": 0.148066,
     "end_time": "2023-12-28T18:06:13.976795",
     "exception": false,
     "start_time": "2023-12-28T18:06:13.828729",
     "status": "completed"
    },
    "tags": []
   },
   "outputs": [
    {
     "name": "stdout",
     "output_type": "stream",
     "text": [
      "(54, 100, 40)\n"
     ]
    }
   ],
   "source": [
    "#For a sequence classification problem\n",
    "# where you want to predict a class for each time step, \n",
    "# the shapes of X_train and y_train should be as follows:\n",
    "# X_train: (number_of_samples, n_timesteps,n_features)\n",
    "# y_train: (number_of_samples, n_timesteps,n_classes)\n",
    "from keras.utils import to_categorical\n",
    "n_timesteps=100\n",
    "n_features=40\n",
    "n_classes=9\n",
    "\n",
    "X_test = np.load('/kaggle/input/motorica-skillfactory-internship-test-task-2023-12/X_test.npy')\n",
    "X_test = X_test.reshape((X_test.shape[0], n_timesteps, n_features))\n",
    "\n",
    "print(X_test.shape)"
   ]
  },
  {
   "cell_type": "code",
   "execution_count": 21,
   "id": "715d0885",
   "metadata": {
    "execution": {
     "iopub.execute_input": "2023-12-28T18:06:14.226163Z",
     "iopub.status.busy": "2023-12-28T18:06:14.225701Z",
     "iopub.status.idle": "2023-12-28T18:06:17.299521Z",
     "shell.execute_reply": "2023-12-28T18:06:17.298435Z"
    },
    "papermill": {
     "duration": 3.202978,
     "end_time": "2023-12-28T18:06:17.302145",
     "exception": false,
     "start_time": "2023-12-28T18:06:14.099167",
     "status": "completed"
    },
    "tags": []
   },
   "outputs": [
    {
     "name": "stdout",
     "output_type": "stream",
     "text": [
      "2/2 [==============================] - 3s 57ms/step\n",
      "(54, 100, 9)\n"
     ]
    }
   ],
   "source": [
    "predictions = model_gru.predict(X_test)\n",
    "print(predictions.shape)"
   ]
  },
  {
   "cell_type": "code",
   "execution_count": 22,
   "id": "555ac943",
   "metadata": {
    "execution": {
     "iopub.execute_input": "2023-12-28T18:06:17.551823Z",
     "iopub.status.busy": "2023-12-28T18:06:17.551405Z",
     "iopub.status.idle": "2023-12-28T18:06:17.614378Z",
     "shell.execute_reply": "2023-12-28T18:06:17.613204Z"
    },
    "papermill": {
     "duration": 0.192091,
     "end_time": "2023-12-28T18:06:17.616733",
     "exception": false,
     "start_time": "2023-12-28T18:06:17.424642",
     "status": "completed"
    },
    "tags": []
   },
   "outputs": [
    {
     "name": "stdout",
     "output_type": "stream",
     "text": [
      "<class 'pandas.core.frame.DataFrame'>\n",
      "RangeIndex: 48600 entries, 0 to 48599\n",
      "Data columns (total 3 columns):\n",
      " #   Column           Non-Null Count  Dtype  \n",
      "---  ------           --------------  -----  \n",
      " 0   sample-timestep  48600 non-null  object \n",
      " 1   class            48600 non-null  object \n",
      " 2   probability      48600 non-null  float32\n",
      "dtypes: float32(1), object(2)\n",
      "memory usage: 949.3+ KB\n"
     ]
    },
    {
     "data": {
      "text/html": [
       "<div>\n",
       "<style scoped>\n",
       "    .dataframe tbody tr th:only-of-type {\n",
       "        vertical-align: middle;\n",
       "    }\n",
       "\n",
       "    .dataframe tbody tr th {\n",
       "        vertical-align: top;\n",
       "    }\n",
       "\n",
       "    .dataframe thead th {\n",
       "        text-align: right;\n",
       "    }\n",
       "</style>\n",
       "<table border=\"1\" class=\"dataframe\">\n",
       "  <thead>\n",
       "    <tr style=\"text-align: right;\">\n",
       "      <th></th>\n",
       "      <th>sample-timestep</th>\n",
       "      <th>class</th>\n",
       "      <th>probability</th>\n",
       "    </tr>\n",
       "  </thead>\n",
       "  <tbody>\n",
       "    <tr>\n",
       "      <th>0</th>\n",
       "      <td>0-0</td>\n",
       "      <td>class_0</td>\n",
       "      <td>0.900650</td>\n",
       "    </tr>\n",
       "    <tr>\n",
       "      <th>1</th>\n",
       "      <td>0-1</td>\n",
       "      <td>class_0</td>\n",
       "      <td>0.901840</td>\n",
       "    </tr>\n",
       "    <tr>\n",
       "      <th>2</th>\n",
       "      <td>0-2</td>\n",
       "      <td>class_0</td>\n",
       "      <td>0.881902</td>\n",
       "    </tr>\n",
       "    <tr>\n",
       "      <th>3</th>\n",
       "      <td>0-3</td>\n",
       "      <td>class_0</td>\n",
       "      <td>0.899221</td>\n",
       "    </tr>\n",
       "    <tr>\n",
       "      <th>4</th>\n",
       "      <td>0-4</td>\n",
       "      <td>class_0</td>\n",
       "      <td>0.871661</td>\n",
       "    </tr>\n",
       "  </tbody>\n",
       "</table>\n",
       "</div>"
      ],
      "text/plain": [
       "  sample-timestep    class  probability\n",
       "0             0-0  class_0     0.900650\n",
       "1             0-1  class_0     0.901840\n",
       "2             0-2  class_0     0.881902\n",
       "3             0-3  class_0     0.899221\n",
       "4             0-4  class_0     0.871661"
      ]
     },
     "metadata": {},
     "output_type": "display_data"
    },
    {
     "data": {
      "text/plain": [
       "None"
      ]
     },
     "metadata": {},
     "output_type": "display_data"
    }
   ],
   "source": [
    "flat_predictions = predictions.reshape(-1, n_classes)\n",
    "flat_indices = np.array([[f\"{i}-{j}\" for j in range(n_timesteps)] for i in range(predictions.shape[0])]).reshape(-1)\n",
    "\n",
    "# Create a DataFrame\n",
    "df_predictions = pd.DataFrame(data=flat_predictions, columns=[f\"class_{i}\" for i in range(n_classes)])\n",
    "\n",
    "# Add \"sample-timestep\" column\n",
    "df_predictions[\"sample-timestep\"] = flat_indices\n",
    "\n",
    "# Reorder columns\n",
    "df_predictions = df_predictions[[\"sample-timestep\"] + [f\"class_{i}\" for i in range(n_classes)]]\n",
    "\n",
    "# Melt the DataFrame to have only two columns\n",
    "df_predictions = pd.melt(df_predictions, id_vars=[\"sample-timestep\"], var_name=\"class\", value_name=\"probability\")\n",
    "\n",
    "display(df_predictions.head(),\n",
    "        df_predictions.info())"
   ]
  },
  {
   "cell_type": "code",
   "execution_count": null,
   "id": "5c10952a",
   "metadata": {
    "execution": {
     "iopub.execute_input": "2023-12-28T17:19:48.198718Z",
     "iopub.status.busy": "2023-12-28T17:19:48.198307Z",
     "iopub.status.idle": "2023-12-28T17:19:48.213371Z",
     "shell.execute_reply": "2023-12-28T17:19:48.212585Z",
     "shell.execute_reply.started": "2023-12-28T17:19:48.198685Z"
    },
    "papermill": {
     "duration": 0.123804,
     "end_time": "2023-12-28T18:06:17.863169",
     "exception": false,
     "start_time": "2023-12-28T18:06:17.739365",
     "status": "completed"
    },
    "tags": []
   },
   "outputs": [],
   "source": []
  },
  {
   "cell_type": "code",
   "execution_count": 23,
   "id": "7abacd72",
   "metadata": {
    "execution": {
     "iopub.execute_input": "2023-12-28T18:06:18.111197Z",
     "iopub.status.busy": "2023-12-28T18:06:18.110472Z",
     "iopub.status.idle": "2023-12-28T18:06:18.185060Z",
     "shell.execute_reply": "2023-12-28T18:06:18.183888Z"
    },
    "papermill": {
     "duration": 0.202154,
     "end_time": "2023-12-28T18:06:18.188030",
     "exception": false,
     "start_time": "2023-12-28T18:06:17.985876",
     "status": "completed"
    },
    "tags": []
   },
   "outputs": [
    {
     "data": {
      "text/html": [
       "<div>\n",
       "<style scoped>\n",
       "    .dataframe tbody tr th:only-of-type {\n",
       "        vertical-align: middle;\n",
       "    }\n",
       "\n",
       "    .dataframe tbody tr th {\n",
       "        vertical-align: top;\n",
       "    }\n",
       "\n",
       "    .dataframe thead th {\n",
       "        text-align: right;\n",
       "    }\n",
       "</style>\n",
       "<table border=\"1\" class=\"dataframe\">\n",
       "  <thead>\n",
       "    <tr style=\"text-align: right;\">\n",
       "      <th></th>\n",
       "      <th>sample-timestep</th>\n",
       "      <th>class</th>\n",
       "      <th>probability</th>\n",
       "    </tr>\n",
       "  </thead>\n",
       "  <tbody>\n",
       "    <tr>\n",
       "      <th>0</th>\n",
       "      <td>0-0</td>\n",
       "      <td>0</td>\n",
       "      <td>0.900650</td>\n",
       "    </tr>\n",
       "    <tr>\n",
       "      <th>1</th>\n",
       "      <td>0-1</td>\n",
       "      <td>0</td>\n",
       "      <td>0.901840</td>\n",
       "    </tr>\n",
       "    <tr>\n",
       "      <th>2</th>\n",
       "      <td>0-2</td>\n",
       "      <td>0</td>\n",
       "      <td>0.881902</td>\n",
       "    </tr>\n",
       "    <tr>\n",
       "      <th>3</th>\n",
       "      <td>0-3</td>\n",
       "      <td>0</td>\n",
       "      <td>0.899221</td>\n",
       "    </tr>\n",
       "    <tr>\n",
       "      <th>4</th>\n",
       "      <td>0-4</td>\n",
       "      <td>0</td>\n",
       "      <td>0.871661</td>\n",
       "    </tr>\n",
       "  </tbody>\n",
       "</table>\n",
       "</div>"
      ],
      "text/plain": [
       "  sample-timestep class  probability\n",
       "0             0-0     0     0.900650\n",
       "1             0-1     0     0.901840\n",
       "2             0-2     0     0.881902\n",
       "3             0-3     0     0.899221\n",
       "4             0-4     0     0.871661"
      ]
     },
     "execution_count": 23,
     "metadata": {},
     "output_type": "execute_result"
    }
   ],
   "source": [
    "df_predictions['class'] = df_predictions['class'].str.replace('class_', '').str.strip()\n",
    "\n",
    "df_predictions.head()"
   ]
  },
  {
   "cell_type": "code",
   "execution_count": 24,
   "id": "22d48674",
   "metadata": {
    "execution": {
     "iopub.execute_input": "2023-12-28T18:06:18.438193Z",
     "iopub.status.busy": "2023-12-28T18:06:18.436993Z",
     "iopub.status.idle": "2023-12-28T18:06:18.455531Z",
     "shell.execute_reply": "2023-12-28T18:06:18.454384Z"
    },
    "papermill": {
     "duration": 0.146279,
     "end_time": "2023-12-28T18:06:18.457922",
     "exception": false,
     "start_time": "2023-12-28T18:06:18.311643",
     "status": "completed"
    },
    "tags": []
   },
   "outputs": [
    {
     "data": {
      "text/plain": [
       "class\n",
       "0    5400\n",
       "1    5400\n",
       "2    5400\n",
       "3    5400\n",
       "4    5400\n",
       "5    5400\n",
       "6    5400\n",
       "7    5400\n",
       "8    5400\n",
       "Name: count, dtype: int64"
      ]
     },
     "execution_count": 24,
     "metadata": {},
     "output_type": "execute_result"
    }
   ],
   "source": [
    "df_predictions['class']=df_predictions['class'].astype(int)\n",
    "df_predictions['class'].value_counts()"
   ]
  },
  {
   "cell_type": "code",
   "execution_count": 25,
   "id": "a29aa196",
   "metadata": {
    "execution": {
     "iopub.execute_input": "2023-12-28T18:06:18.710267Z",
     "iopub.status.busy": "2023-12-28T18:06:18.709561Z",
     "iopub.status.idle": "2023-12-28T18:06:18.720852Z",
     "shell.execute_reply": "2023-12-28T18:06:18.719741Z"
    },
    "papermill": {
     "duration": 0.140222,
     "end_time": "2023-12-28T18:06:18.723122",
     "exception": false,
     "start_time": "2023-12-28T18:06:18.582900",
     "status": "completed"
    },
    "tags": []
   },
   "outputs": [
    {
     "data": {
      "text/html": [
       "<div>\n",
       "<style scoped>\n",
       "    .dataframe tbody tr th:only-of-type {\n",
       "        vertical-align: middle;\n",
       "    }\n",
       "\n",
       "    .dataframe tbody tr th {\n",
       "        vertical-align: top;\n",
       "    }\n",
       "\n",
       "    .dataframe thead th {\n",
       "        text-align: right;\n",
       "    }\n",
       "</style>\n",
       "<table border=\"1\" class=\"dataframe\">\n",
       "  <thead>\n",
       "    <tr style=\"text-align: right;\">\n",
       "      <th></th>\n",
       "      <th>sample-timestep</th>\n",
       "      <th>class</th>\n",
       "      <th>probability</th>\n",
       "    </tr>\n",
       "  </thead>\n",
       "  <tbody>\n",
       "    <tr>\n",
       "      <th>0</th>\n",
       "      <td>0-0</td>\n",
       "      <td>0</td>\n",
       "      <td>0.900650</td>\n",
       "    </tr>\n",
       "    <tr>\n",
       "      <th>1</th>\n",
       "      <td>0-1</td>\n",
       "      <td>0</td>\n",
       "      <td>0.901840</td>\n",
       "    </tr>\n",
       "    <tr>\n",
       "      <th>2</th>\n",
       "      <td>0-2</td>\n",
       "      <td>0</td>\n",
       "      <td>0.881902</td>\n",
       "    </tr>\n",
       "    <tr>\n",
       "      <th>3</th>\n",
       "      <td>0-3</td>\n",
       "      <td>0</td>\n",
       "      <td>0.899221</td>\n",
       "    </tr>\n",
       "    <tr>\n",
       "      <th>4</th>\n",
       "      <td>0-4</td>\n",
       "      <td>0</td>\n",
       "      <td>0.871661</td>\n",
       "    </tr>\n",
       "  </tbody>\n",
       "</table>\n",
       "</div>"
      ],
      "text/plain": [
       "  sample-timestep  class  probability\n",
       "0             0-0      0     0.900650\n",
       "1             0-1      0     0.901840\n",
       "2             0-2      0     0.881902\n",
       "3             0-3      0     0.899221\n",
       "4             0-4      0     0.871661"
      ]
     },
     "execution_count": 25,
     "metadata": {},
     "output_type": "execute_result"
    }
   ],
   "source": [
    "df_predictions.head()"
   ]
  },
  {
   "cell_type": "code",
   "execution_count": 26,
   "id": "c4e4a654",
   "metadata": {
    "execution": {
     "iopub.execute_input": "2023-12-28T18:06:18.972783Z",
     "iopub.status.busy": "2023-12-28T18:06:18.972084Z",
     "iopub.status.idle": "2023-12-28T18:06:22.216136Z",
     "shell.execute_reply": "2023-12-28T18:06:22.214901Z"
    },
    "papermill": {
     "duration": 3.372342,
     "end_time": "2023-12-28T18:06:22.218541",
     "exception": false,
     "start_time": "2023-12-28T18:06:18.846199",
     "status": "completed"
    },
    "tags": []
   },
   "outputs": [
    {
     "data": {
      "text/html": [
       "<div>\n",
       "<style scoped>\n",
       "    .dataframe tbody tr th:only-of-type {\n",
       "        vertical-align: middle;\n",
       "    }\n",
       "\n",
       "    .dataframe tbody tr th {\n",
       "        vertical-align: top;\n",
       "    }\n",
       "\n",
       "    .dataframe thead th {\n",
       "        text-align: right;\n",
       "    }\n",
       "</style>\n",
       "<table border=\"1\" class=\"dataframe\">\n",
       "  <thead>\n",
       "    <tr style=\"text-align: right;\">\n",
       "      <th></th>\n",
       "      <th>sample_id</th>\n",
       "      <th>class</th>\n",
       "      <th>count</th>\n",
       "    </tr>\n",
       "  </thead>\n",
       "  <tbody>\n",
       "    <tr>\n",
       "      <th>0</th>\n",
       "      <td>0</td>\n",
       "      <td>Open</td>\n",
       "      <td>100</td>\n",
       "    </tr>\n",
       "    <tr>\n",
       "      <th>1</th>\n",
       "      <td>0</td>\n",
       "      <td>Pinky</td>\n",
       "      <td>100</td>\n",
       "    </tr>\n",
       "    <tr>\n",
       "      <th>2</th>\n",
       "      <td>0</td>\n",
       "      <td>Grab</td>\n",
       "      <td>100</td>\n",
       "    </tr>\n",
       "    <tr>\n",
       "      <th>3</th>\n",
       "      <td>0</td>\n",
       "      <td>OK</td>\n",
       "      <td>100</td>\n",
       "    </tr>\n",
       "    <tr>\n",
       "      <th>4</th>\n",
       "      <td>0</td>\n",
       "      <td>Thumb</td>\n",
       "      <td>100</td>\n",
       "    </tr>\n",
       "  </tbody>\n",
       "</table>\n",
       "</div>"
      ],
      "text/plain": [
       "   sample_id  class  count\n",
       "0          0   Open    100\n",
       "1          0  Pinky    100\n",
       "2          0   Grab    100\n",
       "3          0     OK    100\n",
       "4          0  Thumb    100"
      ]
     },
     "metadata": {},
     "output_type": "display_data"
    },
    {
     "data": {
      "image/png": "[encoded data removed]",
      "text/plain": [
       "<Figure size 1700x600 with 8 Axes>"
      ]
     },
     "metadata": {},
     "output_type": "display_data"
    }
   ],
   "source": [
    "temp = df_predictions.copy()\n",
    "temp[['sample_id', 'timestep']] = temp['sample-timestep'].str.split('-', n=1, expand=True).astype(int)\n",
    "temp = temp.groupby('sample_id', as_index=False)['class'].value_counts()\n",
    "dic = {0:'Open',1: 'Pinky', 2:'Ring', 3:'Middle',\n",
    "       4:'Pistol', 5:'Index',6: 'Thumb',7: 'OK',8: 'Grab'}\n",
    "temp['class'] = temp['class'].map(dic)\n",
    "display(temp.head())\n",
    "samples = temp.sample_id.unique()\n",
    "figs = []\n",
    "fig, axes = plt.subplots(2, 4, figsize=(17, 6))\n",
    "\n",
    "# Iterate over samples and create bar plots\n",
    "for i, sample_id in enumerate(np.random.choice(samples, 8, replace=False)):\n",
    "    temp_sample = temp[temp['sample_id'] == sample_id]\n",
    "    \n",
    "    # Calculate the position in the 2x4 grid\n",
    "    row, col = divmod(i-1, 4)\n",
    "    \n",
    "    sns.barplot(x='class', y='count', data=temp_sample, ax=axes[row, col])\n",
    "\n",
    "    axes[row, col].set_title(f'Train {sample_id}')\n",
    "    axes[row, col].set_xlabel('Class')\n",
    "    axes[row, col].set_ylabel('Count')\n",
    "    axes[row, col].set_xticks(np.arange(len(temp_sample['class'])))\n",
    "    axes[row, col].set_xticklabels(labels=temp_sample['class'], rotation=45, ha='right')\n",
    "                            \n",
    "plt.tight_layout()\n",
    "fig.suptitle('Distribution of movements')\n",
    "plt.show()"
   ]
  },
  {
   "cell_type": "code",
   "execution_count": 27,
   "id": "19a45637",
   "metadata": {
    "execution": {
     "iopub.execute_input": "2023-12-28T18:06:22.471541Z",
     "iopub.status.busy": "2023-12-28T18:06:22.471065Z",
     "iopub.status.idle": "2023-12-28T18:06:22.633046Z",
     "shell.execute_reply": "2023-12-28T18:06:22.631804Z"
    },
    "papermill": {
     "duration": 0.292408,
     "end_time": "2023-12-28T18:06:22.636050",
     "exception": false,
     "start_time": "2023-12-28T18:06:22.343642",
     "status": "completed"
    },
    "tags": []
   },
   "outputs": [],
   "source": [
    "submission = df_predictions.drop('probability', axis=1)\n",
    "submission.to_csv('/kaggle/working/submission.csv')"
   ]
  }
 ],
 "metadata": {
  "kaggle": {
   "accelerator": "none",
   "dataSources": [
    {
     "databundleVersionId": 7264814,
     "sourceId": 65926,
     "sourceType": "competition"
    }
   ],
   "dockerImageVersionId": 30626,
   "isGpuEnabled": false,
   "isInternetEnabled": true,
   "language": "python",
   "sourceType": "notebook"
  },
  "kernelspec": {
   "display_name": "Python 3",
   "language": "python",
   "name": "python3"
  },
  "language_info": {
   "codemirror_mode": {
    "name": "ipython",
    "version": 3
   },
   "file_extension": ".py",
   "mimetype": "text/x-python",
   "name": "python",
   "nbconvert_exporter": "python",
   "pygments_lexer": "ipython3",
   "version": "3.10.12"
  },
  "papermill": {
   "default_parameters": {},
   "duration": 2560.925784,
   "end_time": "2023-12-28T18:06:26.168696",
   "environment_variables": {},
   "exception": null,
   "input_path": "__notebook__.ipynb",
   "output_path": "__notebook__.ipynb",
   "parameters": {},
   "start_time": "2023-12-28T17:23:45.242912",
   "version": "2.4.0"
  }
 },
 "nbformat": 4,
 "nbformat_minor": 5
}
